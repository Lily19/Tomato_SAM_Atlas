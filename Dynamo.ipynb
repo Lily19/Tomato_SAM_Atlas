{
 "cells": [
  {
   "cell_type": "code",
   "execution_count": null,
   "metadata": {
    "tags": []
   },
   "outputs": [],
   "source": [
    "# !pip install dynamo-release --upgrade --quiet\n",
    "\n",
    "import dynamo as dyn\n",
    "\n",
    "# set white background\n",
    "dyn.configuration.set_figure_params(background='white') \n",
    "\n",
    "import matplotlib.pyplot as plt \n",
    "import numpy as np \n",
    "import pandas as pd\n",
    "# from gseapy.plot import barplot, dotplot\n",
    "import os\n",
    "\n",
    "import warnings\n",
    "warnings.filterwarnings('ignore')\n",
    "\n",
    "Set the logging level. Various logging level can be setted according to your needs:\n",
    "\n",
    "- DEBUG: useful for dynamo development, show all logging information, including those debugging information\n",
    "- INFO: useful for most dynamo users, show detailed dynamo running information\n",
    "- WARNING: show only warning information\n",
    "- ERROR: show only exception or error information\n",
    "- CRITICAL: show only critical information\n",
    "\n",
    "%matplotlib inline\n",
    "from dynamo.dynamo_logger import main_info, LoggerManager\n",
    "LoggerManager.main_logger.setLevel(LoggerManager.INFO)\n",
    "\n",
    "### Load processed data or data preprocessing \n",
    "\n",
    "If you followed the **zebrafish pigmentation** tutorial, you can load the processed zebrafish adata object here for all downstream analysis. \n",
    "\n",
    "# load datawork/output/Trajectory/scVelo/Seurat/TM2/TM2_3layers.h5ad\n",
    "\n",
    "output = '/data/work/output/Trajectory/scVelo' #改\n",
    "\n",
    "folder_path = os.path.join(output, method, sample)\n",
    "\n",
    "path1 = os.path.join(folder_path, sample +'_3layers.h5ad')\n",
    "adata = dyn.read_h5ad(path1)\n",
    "adata\n",
    "\n",
    "adata.obs.rename(columns={'assign.ident': 'Cell_type'}, inplace=True)\n",
    "adata\n",
    "\n",
    "folder2 = '/data/work/output/Trajectory/Dynamo/Seurat'\n",
    "path2 = os.path.join(folder2, sample + '/')\n",
    "\n",
    "if not os.path.exists(path2):\n",
    "    os.makedirs(path2)\n",
    "else:\n",
    "    print(\"Folder already exists.\")\n",
    "\n",
    "print(path2)\n",
    "\n",
    "# adata = dyn.sample_data.zebrafish()\n",
    "\n",
    "preprocessor = dyn.pp.Preprocessor()\n",
    "preprocessor.preprocess_adata(adata, recipe='monocle')\n",
    "\n",
    "adata.shape\n",
    "\n",
    "dyn.tl.dynamics(adata, cores=3) \n",
    "\n",
    "dyn.tl.reduceDimension(adata) \n",
    "\n",
    "dyn.tl.cell_velocities(adata)\n",
    "\n",
    "dyn.pl.streamline_plot(\n",
    "    adata, \n",
    "    color=['Cell_type'],\n",
    "    save_show_or_return='save', \n",
    "    save_kwargs={'path': path2, 'prefix': 'streamline_plot', 'dpi': 300, 'ext': 'svg'}\n",
    ") \n"
   ]
  }
 ],
 "metadata": {
  "interpreter": {
   "hash": "149170a34b80921e9f067d63e9cd48cc3daa8835f3726c438cfa63a39a78a9cb"
  },
  "kernelspec": {
   "display_name": "Python 3 (ipykernel)",
   "language": "python",
   "name": "python3"
  },
  "language_info": {
   "codemirror_mode": {
    "name": "ipython",
    "version": 3
   },
   "file_extension": ".py",
   "mimetype": "text/x-python",
   "name": "python",
   "nbconvert_exporter": "python",
   "pygments_lexer": "ipython3",
   "version": "3.13.2"
  },
  "widgets": {
   "application/vnd.jupyter.widget-state+json": {
    "state": {},
    "version_major": 2,
    "version_minor": 0
   }
  }
 },
 "nbformat": 4,
 "nbformat_minor": 4
}
