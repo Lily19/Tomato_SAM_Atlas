{
 "cells": [
  {
   "cell_type": "code",
   "execution_count": null,
   "id": "7a223420-2c03-4b2d-9f84-49cdfcf0b79c",
   "metadata": {},
   "outputs": [],
   "source": [
    "library(Seurat)\n",
    "\n",
    "# input & output\n",
    "sample = 'TM2' \n",
    "task = 'W202501050006174' \n",
    "data_dir = paste0('/data/input/', task, '/scRNA-seq_v3.1.5/04.Matrix/RNAVelocityMatrix/')\n",
    "outdir = paste0('/data/work/output/Seurat/Add_assay/', sample, '/', task, '/')\n",
    "dir.create(outdir, recursive = TRUE, showWarnings = FALSE)\n",
    "\n",
    "load(file = paste0('/data/work/output/DoubletFinder/', sample, '/', task, \"/Singlet_\",sample,\".rdata\"))\n",
    "\n",
    "#  spliced matrix\n",
    "spliced_mtx <- ReadMtx(\n",
    "    mtx = paste0(data_dir, 'spliced.mtx.gz'),\n",
    "    features = paste0(data_dir, 'features.tsv.gz'),\n",
    "    cells = paste0(data_dir, 'barcodes.tsv.gz'),\n",
    "    cell.column = 1,\n",
    "    feature.column = 1\n",
    ")\n",
    "\n",
    "spliced.assay <- CreateAssayObject(counts = spliced_mtx) \n",
    "\n",
    "seob[[\"spliced\"]] <- subset(spliced.assay, cells=colnames(seob[['RNA']]),features = rownames(objs[['RNA']]))\n",
    "\n",
    "# unspliced matrix\n",
    "\n",
    "unspliced_mtx <- ReadMtx(\n",
    "    mtx = paste0(data_dir, 'unspliced.mtx.gz'),\n",
    "    features = paste0(data_dir, 'features.tsv.gz'),\n",
    "    cells = paste0(data_dir, 'barcodes.tsv.gz'),\n",
    "    cell.column = 1,\n",
    "    feature.column = 1\n",
    ")\n",
    "\n",
    "unspliced.assay <- CreateAssayObject(counts = unspliced_mtx) \n",
    "\n",
    "\n",
    "seob[[\"unspliced\"]] <- subset(unspliced.assay, cells=colnames(seob[['RNA']]),features = rownames(objs[['RNA']]))\n",
    "\n",
    "seob\n",
    "\n",
    "save(seob,file = paste0(outdir, \"Singlet_spliced_\",sample,\".rdata\"))"
   ]
  }
 ],
 "metadata": {
  "kernelspec": {
   "display_name": "Python 3 (ipykernel)",
   "language": "python",
   "name": "python3"
  },
  "language_info": {
   "codemirror_mode": {
    "name": "ipython",
    "version": 3
   },
   "file_extension": ".py",
   "mimetype": "text/x-python",
   "name": "python",
   "nbconvert_exporter": "python",
   "pygments_lexer": "ipython3",
   "version": "3.13.2"
  }
 },
 "nbformat": 4,
 "nbformat_minor": 5
}
