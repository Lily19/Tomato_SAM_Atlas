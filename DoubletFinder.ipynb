{
 "cells": [
  {
   "cell_type": "markdown",
   "id": "906b75ff",
   "metadata": {},
   "source": [
    "# 第一步：Seurat对象的构建"
   ]
  },
  {
   "cell_type": "markdown",
   "id": "e3a51347",
   "metadata": {},
   "source": [
    "### 从CellRanger输出结果构建"
   ]
  },
  {
   "cell_type": "code",
   "execution_count": 1,
   "id": "fac010bc-6362-4661-a664-34d9b9645fd9",
   "metadata": {
    "tags": []
   },
   "outputs": [
    {
     "name": "stderr",
     "output_type": "stream",
     "text": [
      "The legacy packages maptools, rgdal, and rgeos, underpinning this package\n",
      "will retire shortly. Please refer to R-spatial evolution reports on\n",
      "https://r-spatial.org/r/2023/05/15/evolution4.html for details.\n",
      "This package is now running under evolution status 0 \n",
      "\n",
      "Attaching SeuratObject\n",
      "\n"
     ]
    }
   ],
   "source": [
    "# 加载软件包，使用的镜像为\n",
    "library(Seurat)\n",
    "library(stringr)"
   ]
  },
  {
   "cell_type": "code",
   "execution_count": 5,
   "id": "1eacd0dc-3372-498a-9d2d-7f077dce036c",
   "metadata": {},
   "outputs": [],
   "source": [
    "# 创建输出文件夹\n",
    "task = 'W202501050006174'\n",
    "sample = 'TM2'\n",
    "\n",
    "path = str_c(\"/data/work/output/DoubletFinder/\",sample,\"/\",task, \"/\")\n",
    "dir.create(path, recursive = TRUE, showWarnings = FALSE)"
   ]
  },
  {
   "cell_type": "code",
   "execution_count": 4,
   "id": "f4d265d1-c804-47ff-ac44-401a361f2e1f",
   "metadata": {},
   "outputs": [],
   "source": [
    "# 读取单个CellRanger输出结果\n",
    "\n",
    "# file = str_c(\"/data/work/output/\",task,\"/soupX_matrix\")\n",
    "file = '/data/users/yuantingting/yuantingting_fd18e4ec5adc46dd89e2e5c607e9e7e3/online/output/SoupX/TM2/W202501050006174/soupX_matrix'\n",
    "scrna_data <- Read10X(data.dir = file)"
   ]
  },
  {
   "cell_type": "code",
   "execution_count": 6,
   "id": "f81d0f61-edd8-4af4-9b8c-61d3248eb7e7",
   "metadata": {},
   "outputs": [],
   "source": [
    "# 构建Seurat对象\n",
    "seob <- CreateSeuratObject(\n",
    "counts = scrna_data, #表达矩阵，稀疏或普通矩阵都可以\n",
    "project = task, # 把id列改为样本名称\n",
    "min.cells = 3, #去除在小于3个细胞中表达的基因\n",
    "min.features = 200, # 去除只有200个以下基因表达的细胞\n",
    ")\n",
    "seob[['sample']]= sample"
   ]
  },
  {
   "cell_type": "code",
   "execution_count": 7,
   "id": "6a4f03fb-1906-4875-8659-61dea58e14e0",
   "metadata": {},
   "outputs": [
    {
     "data": {
      "text/plain": [
       "An object of class Seurat \n",
       "23904 features across 9298 samples within 1 assay \n",
       "Active assay: RNA (23904 features, 0 variable features)"
      ]
     },
     "metadata": {},
     "output_type": "display_data"
    }
   ],
   "source": [
    "seob"
   ]
  },
  {
   "cell_type": "code",
   "execution_count": 8,
   "id": "cf883519-9f48-45f9-a3f7-ef0edd21dc76",
   "metadata": {},
   "outputs": [
    {
     "data": {
      "text/html": [
       "<style>\n",
       ".list-inline {list-style: none; margin:0; padding: 0}\n",
       ".list-inline>li {display: inline-block}\n",
       ".list-inline>li:not(:last-child)::after {content: \"\\00b7\"; padding: 0 .5ex}\n",
       "</style>\n",
       "<ol class=list-inline><li>23904</li><li>9298</li></ol>\n"
      ],
      "text/latex": [
       "\\begin{enumerate*}\n",
       "\\item 23904\n",
       "\\item 9298\n",
       "\\end{enumerate*}\n"
      ],
      "text/markdown": [
       "1. 23904\n",
       "2. 9298\n",
       "\n",
       "\n"
      ],
      "text/plain": [
       "[1] 23904  9298"
      ]
     },
     "metadata": {},
     "output_type": "display_data"
    }
   ],
   "source": [
    "dim(seob)\n",
    "\n",
    "# 第一次建库测序：\n",
    "# 27861\n",
    "# 12042"
   ]
  },
  {
   "cell_type": "code",
   "execution_count": 80,
   "id": "2911db50-70c2-4f8d-91fd-a8e24bf97844",
   "metadata": {},
   "outputs": [
    {
     "data": {
      "text/html": [
       "<table class=\"dataframe\">\n",
       "<caption>A data.frame: 4 × 4</caption>\n",
       "<thead>\n",
       "\t<tr><th></th><th scope=col>orig.ident</th><th scope=col>nCount_RNA</th><th scope=col>nFeature_RNA</th><th scope=col>sample</th></tr>\n",
       "\t<tr><th></th><th scope=col>&lt;fct&gt;</th><th scope=col>&lt;dbl&gt;</th><th scope=col>&lt;int&gt;</th><th scope=col>&lt;chr&gt;</th></tr>\n",
       "</thead>\n",
       "<tbody>\n",
       "\t<tr><th scope=row>CELL1_N1</th><td>W202412240014716</td><td>2978.372</td><td>2008</td><td>EFM</td></tr>\n",
       "\t<tr><th scope=row>CELL2_N1</th><td>W202412240014716</td><td>2134.769</td><td>1452</td><td>EFM</td></tr>\n",
       "\t<tr><th scope=row>CELL3_N1</th><td>W202412240014716</td><td>3020.510</td><td>1861</td><td>EFM</td></tr>\n",
       "\t<tr><th scope=row>CELL4_N1</th><td>W202412240014716</td><td>2384.682</td><td>1458</td><td>EFM</td></tr>\n",
       "</tbody>\n",
       "</table>\n"
      ],
      "text/latex": [
       "A data.frame: 4 × 4\n",
       "\\begin{tabular}{r|llll}\n",
       "  & orig.ident & nCount\\_RNA & nFeature\\_RNA & sample\\\\\n",
       "  & <fct> & <dbl> & <int> & <chr>\\\\\n",
       "\\hline\n",
       "\tCELL1\\_N1 & W202412240014716 & 2978.372 & 2008 & EFM\\\\\n",
       "\tCELL2\\_N1 & W202412240014716 & 2134.769 & 1452 & EFM\\\\\n",
       "\tCELL3\\_N1 & W202412240014716 & 3020.510 & 1861 & EFM\\\\\n",
       "\tCELL4\\_N1 & W202412240014716 & 2384.682 & 1458 & EFM\\\\\n",
       "\\end{tabular}\n"
      ],
      "text/markdown": [
       "\n",
       "A data.frame: 4 × 4\n",
       "\n",
       "| <!--/--> | orig.ident &lt;fct&gt; | nCount_RNA &lt;dbl&gt; | nFeature_RNA &lt;int&gt; | sample &lt;chr&gt; |\n",
       "|---|---|---|---|---|\n",
       "| CELL1_N1 | W202412240014716 | 2978.372 | 2008 | EFM |\n",
       "| CELL2_N1 | W202412240014716 | 2134.769 | 1452 | EFM |\n",
       "| CELL3_N1 | W202412240014716 | 3020.510 | 1861 | EFM |\n",
       "| CELL4_N1 | W202412240014716 | 2384.682 | 1458 | EFM |\n",
       "\n"
      ],
      "text/plain": [
       "         orig.ident       nCount_RNA nFeature_RNA sample\n",
       "CELL1_N1 W202412240014716 2978.372   2008         EFM   \n",
       "CELL2_N1 W202412240014716 2134.769   1452         EFM   \n",
       "CELL3_N1 W202412240014716 3020.510   1861         EFM   \n",
       "CELL4_N1 W202412240014716 2384.682   1458         EFM   "
      ]
     },
     "metadata": {},
     "output_type": "display_data"
    }
   ],
   "source": [
    "seob@meta.data[1:4,]"
   ]
  },
  {
   "cell_type": "markdown",
   "id": "577806a8",
   "metadata": {},
   "source": [
    "## 保存数据"
   ]
  },
  {
   "cell_type": "code",
   "execution_count": 81,
   "id": "dbce26f1",
   "metadata": {},
   "outputs": [],
   "source": [
    "save(seob,file = str_c(path, \"SoupX_\",sample,\".rdata\"))"
   ]
  },
  {
   "cell_type": "markdown",
   "id": "789c46eb",
   "metadata": {},
   "source": [
    "# 第二步：数据的质控和过滤"
   ]
  },
  {
   "cell_type": "code",
   "execution_count": 82,
   "id": "b1761470",
   "metadata": {
    "lines_to_next_cell": 2
   },
   "outputs": [],
   "source": [
    "library(tidyverse)\n",
    "library(patchwork)\n",
    "library(DoubletFinder)\n",
    "# load(file = str_c(path, \"SoupX_\",sample,\".rdata\") ) #打开保存的数据"
   ]
  },
  {
   "cell_type": "markdown",
   "id": "076b02a6",
   "metadata": {},
   "source": [
    "## 去除双胞"
   ]
  },
  {
   "cell_type": "code",
   "execution_count": 83,
   "id": "b8f4a4bc-38d1-409a-a62f-2971999da9b9",
   "metadata": {
    "collapsed": true,
    "jupyter": {
     "outputs_hidden": true
    },
    "tags": []
   },
   "outputs": [
    {
     "name": "stderr",
     "output_type": "stream",
     "text": [
      "Centering and scaling data matrix\n",
      "\n",
      "PC_ 1 \n",
      "Positive:  gene:Solyc06g075960.1, gene:Solyc04g011390.1, gene:Solyc11g007920.1, gene:Solyc02g077480.1, gene:Solyc11g072860.2, gene:Solyc10g008910.1, gene:Solyc01g086820.5, gene:Solyc01g099410.3, gene:Solyc06g074790.3, gene:Solyc06g075850.1 \n",
      "\t   gene:Solyc01g073970.3, gene:Solyc06g075930.1, gene:Solyc11g066430.3, gene:Solyc09g082710.3, gene:Solyc01g079110.5, gene:Solyc01g074000.4, gene:Solyc06g075830.2, gene:Solyc06g075800.1, gene:Solyc05g055430.5, gene:Solyc06g005430.1 \n",
      "\t   gene:Solyc06g074780.1, gene:Solyc05g054610.1, gene:Solyc09g083380.5, gene:Solyc12g056540.1, gene:Solyc11g073250.2, gene:Solyc06g005420.1, gene:Solyc09g010400.3, gene:Solyc01g100030.5.1, gene:Solyc12g005270.2, gene:Solyc11g072840.1 \n",
      "Negative:  gene:Solyc03g034220.3, gene:Solyc03g098780.2, gene:Solyc01g006400.4, gene:Solyc07g007755.2, gene:Solyc07g047850.3, gene:Solyc07g066150.1, gene:Solyc02g065400.3, gene:Solyc08g006930.3, gene:Solyc02g070940.1, gene:Solyc09g084480.3 \n",
      "\t   gene:Solyc02g063150.3, gene:Solyc06g074200.4, gene:Solyc12g087940.2, gene:Solyc12g011450.2, gene:Solyc12g099650.2, gene:Solyc08g013670.3, gene:Solyc02g071030.2, gene:Solyc11g022590.1, gene:Solyc02g069460.3, gene:Solyc03g005780.3 \n",
      "\t   gene:Solyc12g094620.3, gene:Solyc03g005760.1, gene:Solyc01g074030.3, gene:Solyc04g009030.3, gene:Solyc04g082630.3, gene:Solyc03g115900.5, gene:Solyc10g006230.4, gene:Solyc03g005770.4, gene:Solyc04g082010.1, gene:Solyc07g007750.3 \n",
      "PC_ 2 \n",
      "Positive:  gene:Solyc04g011390.1, gene:Solyc01g099410.3, gene:Solyc01g086820.5, gene:Solyc06g075960.1, gene:Solyc11g072860.2, gene:Solyc10g008910.1, gene:Solyc05g055430.5, gene:Solyc01g074000.4, gene:Solyc09g010400.3, gene:Solyc06g074790.3 \n",
      "\t   gene:Solyc02g077480.1, gene:Solyc11g007920.1, gene:Solyc06g075850.1, gene:Solyc06g075830.2, gene:Solyc11g073250.2, gene:Solyc09g083380.5, gene:Solyc11g066430.3, gene:Solyc06g005420.1, gene:Solyc01g079110.5, gene:Solyc06g075800.1 \n",
      "\t   gene:Solyc01g073970.3, gene:Solyc06g075930.1, gene:Solyc01g086800.4, gene:Solyc11g073260.2, gene:Solyc06g074780.1, gene:Solyc11g072840.1, gene:Solyc11g066160.1, gene:Solyc05g054610.1, gene:Solyc09g082710.3, gene:Solyc06g005430.1 \n",
      "Negative:  gene:Solyc05g055680.5, gene:Solyc10g080360.1, gene:Solyc01g080750.3, gene:Solyc07g065530.1, gene:Solyc05g014370.3, gene:Solyc11g065190.3, gene:Solyc02g083890.4, gene:Solyc02g070210.3, gene:Solyc07g007190.3, gene:Solyc02g062170.3 \n",
      "\t   gene:Solyc02g088830.5, gene:Solyc06g072830.5, gene:Solyc03g007130.4, gene:Solyc08g082070.3, gene:Solyc01g106540.5, gene:Solyc06g043150.4, gene:Solyc03g121080.3, gene:Solyc06g053760.3, gene:Solyc10g078330.2, gene:Solyc07g041770.1 \n",
      "\t   gene:Solyc10g080950.2, gene:Solyc02g083640.5, gene:Solyc07g043070.3, gene:Solyc07g065210.5, gene:Solyc04g082430.3, gene:Solyc02g087880.3, gene:Solyc11g066350.2, gene:Solyc05g005580.3, gene:Solyc06g083670.4, gene:Solyc03g032190.3 \n",
      "PC_ 3 \n",
      "Positive:  gene:Solyc04g080940.4, gene:Solyc02g080530.3, gene:Solyc06g076140.5, gene:Solyc10g084320.3, gene:Solyc06g059870.1, gene:Solyc03g119210.1, gene:Solyc10g076730.1, gene:Solyc12g099200.2, gene:Solyc08g066840.3, gene:Solyc11g006990.2 \n",
      "\t   gene:Solyc05g051870.3, gene:Solyc10g005060.4, gene:Solyc08g078500.3, gene:Solyc02g084950.3, gene:Solyc10g055200.1, gene:Solyc11g066950.2, gene:Solyc09g008860.5, gene:Solyc11g007200.3, gene:Solyc07g063850.3, gene:Solyc06g068360.3 \n",
      "\t   gene:Solyc08g079570.3, gene:Solyc12g042580.2, gene:Solyc02g081190.5, gene:Solyc02g087440.5, gene:Solyc03g114240.5, gene:Solyc01g111310.3, gene:Solyc01g091920.2, gene:Solyc05g050540.5, gene:Solyc04g072030.1, gene:Solyc05g005010.3 \n",
      "Negative:  gene:Solyc12g011010.2, gene:Solyc09g062970.1, gene:Solyc10g075100.2, gene:Solyc06g074260.4, gene:Solyc01g080750.3, gene:Solyc08g074620.3, gene:Solyc02g083890.4, gene:Solyc11g006250.2, gene:Solyc06g064820.3, gene:Solyc02g088830.5 \n",
      "\t   gene:Solyc02g062170.3, gene:Solyc02g087880.3, gene:Solyc09g018010.3, gene:Solyc07g055950.3, gene:Solyc03g121600.4, gene:Solyc05g055680.5, gene:Solyc01g100760.2, gene:Solyc11g065190.3, gene:Solyc08g082070.3, gene:Solyc10g080360.1 \n",
      "\t   gene:Solyc06g053760.3, gene:Solyc09g092720.3, gene:Solyc07g065530.1, gene:Solyc05g014370.3, gene:Solyc07g007190.3, gene:Solyc09g089530.3, gene:Solyc09g084470.3, gene:Solyc03g121180.4, gene:Solyc02g070210.3, gene:Solyc10g080950.2 \n",
      "PC_ 4 \n",
      "Positive:  gene:Solyc07g066150.1, gene:Solyc07g047850.3, gene:Solyc03g005780.3, gene:Solyc03g034220.3, gene:Solyc02g063150.3, gene:Solyc03g005770.4, gene:Solyc01g073970.3, gene:Solyc11g073260.2, gene:Solyc02g070940.1, gene:Solyc01g099410.3 \n",
      "\t   gene:Solyc04g011390.1, gene:Solyc09g083380.5, gene:Solyc06g074790.3, gene:Solyc11g072860.2, gene:Solyc01g086800.4, gene:Solyc01g086820.5, gene:Solyc01g091010.3, gene:Solyc01g074000.4, gene:Solyc09g074300.1, gene:Solyc11g007920.1 \n",
      "\t   gene:Solyc10g008910.1, gene:Solyc02g077480.1, gene:Solyc06g005420.1, gene:Solyc02g065400.3, gene:Solyc06g075830.2, gene:Solyc12g087940.2, gene:Solyc12g099650.2, gene:Solyc02g069460.3, gene:Solyc11g066430.3, gene:Solyc08g006930.3 \n",
      "Negative:  gene:Solyc09g092720.3, gene:Solyc10g075100.2, gene:Solyc09g018010.3, gene:Solyc09g062970.1, gene:Solyc11g006250.2, gene:Solyc01g100760.2, gene:Solyc07g055950.3, gene:Solyc12g011010.2, gene:Solyc06g074260.4, gene:Solyc09g014550.3 \n",
      "\t   gene:Solyc08g074620.3, gene:Solyc03g121180.4, gene:Solyc03g121600.4, gene:Solyc11g010960.2, gene:Solyc03g006240.3, gene:Solyc06g064820.3, gene:Solyc09g097780.2, gene:Solyc10g007800.3, gene:Solyc09g092270.3, gene:Solyc02g078850.1 \n",
      "\t   gene:Solyc02g083880.3, gene:Solyc08g067260.5, gene:Solyc09g084470.3, gene:Solyc05g015490.5, gene:Solyc02g080330.4, gene:Solyc05g013220.2, gene:Solyc01g100750.2, gene:Solyc01g094700.5, gene:Solyc06g069790.5, gene:Solyc06g074390.3 \n",
      "PC_ 5 \n",
      "Positive:  gene:Solyc02g077710.1, gene:Solyc04g080940.4, gene:Solyc10g076730.1, gene:Solyc11g006990.2, gene:Solyc03g119210.1, gene:Solyc03g121180.4, gene:Solyc11g006250.2, gene:Solyc02g087440.5, gene:Solyc08g078500.3, gene:Solyc12g042580.2 \n",
      "\t   gene:Solyc10g075100.2, gene:Solyc02g080530.3, gene:Solyc05g051870.3, gene:Solyc01g094700.5, gene:Solyc09g014380.3, gene:Solyc08g066840.3, gene:Solyc05g050540.5, gene:Solyc10g055200.1, gene:Solyc09g097780.2, gene:Solyc05g005010.3 \n",
      "\t   gene:Solyc01g111310.3, gene:Solyc11g010960.2, gene:Solyc09g092720.3, gene:Solyc03g121600.4, gene:Solyc06g074260.4, gene:Solyc09g083380.5, gene:Solyc04g007890.3, gene:Solyc09g074300.1, gene:Solyc09g097770.3, gene:Solyc01g091920.2 \n",
      "Negative:  gene:Solyc07g065110.2, gene:Solyc07g007750.3, gene:Solyc11g010570.2, gene:Solyc01g006390.2, gene:Solyc07g043420.3, gene:Solyc09g014525.1, gene:Solyc12g006470.2, gene:Solyc09g005400.3, gene:Solyc08g074683.1, gene:Solyc12g017460.1 \n",
      "\t   gene:Solyc02g080200.5, gene:Solyc01g006400.4, gene:Solyc07g043460.3, gene:Solyc01g066910.3, gene:Solyc09g014550.3, gene:Solyc02g083880.3, gene:Solyc08g080470.3, gene:Solyc01g010150.3, gene:Solyc02g077880.3, gene:Solyc07g043490.1 \n",
      "\t   gene:Solyc08g078900.1, gene:Solyc12g096780.2, gene:Solyc05g056620.2, gene:Solyc05g050130.5, gene:Solyc08g078910.1, gene:Solyc04g010330.3, gene:Solyc07g043480.1, gene:Solyc01g006660.4, gene:Solyc01g109390.3, gene:Solyc10g076510.2 \n",
      "\n",
      "21:18:21 UMAP embedding parameters a = 0.9922 b = 1.112\n",
      "\n",
      "21:18:21 Read 12633 rows and found 30 numeric columns\n",
      "\n",
      "21:18:21 Using Annoy for neighbor search, n_neighbors = 30\n",
      "\n",
      "21:18:21 Building Annoy index with metric = cosine, n_trees = 50\n",
      "\n",
      "0%   10   20   30   40   50   60   70   80   90   100%\n",
      "\n",
      "[----|----|----|----|----|----|----|----|----|----|\n",
      "\n",
      "*\n",
      "*\n",
      "*\n",
      "*\n",
      "*\n",
      "*\n",
      "*\n",
      "*\n",
      "*\n",
      "*\n",
      "*\n",
      "*\n",
      "*\n",
      "*\n",
      "*\n",
      "*\n",
      "*\n",
      "*\n",
      "*\n",
      "*\n",
      "*\n",
      "*\n",
      "*\n",
      "*\n",
      "*\n",
      "*\n",
      "*\n",
      "*\n",
      "*\n",
      "*\n",
      "*\n",
      "*\n",
      "*\n",
      "*\n",
      "*\n",
      "*\n",
      "*\n",
      "*\n",
      "*\n",
      "*\n",
      "*\n",
      "*\n",
      "*\n",
      "*\n",
      "*\n",
      "*\n",
      "*\n",
      "*\n",
      "*\n",
      "*\n",
      "|\n",
      "\n",
      "21:18:23 Writing NN index file to temp file /tmp/Rtmpl0TBxc/file16c7ecc42d4\n",
      "\n",
      "21:18:23 Searching Annoy index using 1 thread, search_k = 3000\n",
      "\n",
      "21:18:27 Annoy recall = 100%\n",
      "\n",
      "21:18:28 Commencing smooth kNN distance calibration using 1 thread\n",
      " with target n_neighbors = 30\n",
      "\n",
      "21:18:29 Initializing from normalized Laplacian + noise (using irlba)\n",
      "\n",
      "21:18:34 Commencing optimization for 200 epochs, with 571640 positive edges\n",
      "\n",
      "21:18:50 Optimization finished\n",
      "\n",
      "Computing nearest neighbor graph\n",
      "\n",
      "Computing SNN\n",
      "\n"
     ]
    },
    {
     "name": "stdout",
     "output_type": "stream",
     "text": [
      "Modularity Optimizer version 1.3.0 by Ludo Waltman and Nees Jan van Eck\n",
      "\n",
      "Number of nodes: 12633\n",
      "Number of edges: 474487\n",
      "\n",
      "Running Louvain algorithm...\n",
      "Maximum modularity in 10 random starts: 0.9592\n",
      "Number of communities: 7\n",
      "Elapsed time: 2 seconds\n"
     ]
    }
   ],
   "source": [
    "# https://lishensuo.github.io/posts/bioinfo/027%E5%8D%95%E7%BB%86%E8%83%9E%E5%88%86%E6%9E%90%E5%B7%A5%E5%85%B7--doubletfinder%E8%AF%86%E5%88%AB%E5%8F%8C%E7%BB%86%E8%83%9E/\n",
    "# (1) 预处理：质控过滤 + 降维分群\n",
    "\n",
    "# seob = PercentageFeatureSet(seob, \"^MT-\", col.name = \"percent_mito\")\n",
    "seob = seob %>% \n",
    "  subset(., nFeature_RNA > 200) %>% \n",
    "  subset(., nCount_RNA > 500)   \n",
    "  # subset(., percent_mito < 10) #我觉得应该在去除了双胞后再计算线粒体基因比例，因为如果是双胞的话，可能有一个细胞破了，但比例被另一个细胞稀释了\n",
    "\n",
    "seob = seob %>%\n",
    "  NormalizeData() %>%\n",
    "  FindVariableFeatures() %>%\n",
    "  ScaleData()\n",
    "\n",
    "seob = seob %>% \n",
    "  RunPCA() %>% \n",
    "  RunUMAP(dims = 1:30) %>%  #RunTSNE\n",
    "  FindNeighbors(dims = 1:30) %>% \n",
    "  FindClusters(resolution = 0.1)"
   ]
  },
  {
   "cell_type": "code",
   "execution_count": 84,
   "id": "92e6f375-886e-4588-8fc9-62261cfd0f28",
   "metadata": {},
   "outputs": [
    {
     "data": {
      "text/html": [
       "<strong>png:</strong> 2"
      ],
      "text/latex": [
       "\\textbf{png:} 2"
      ],
      "text/markdown": [
       "**png:** 2"
      ],
      "text/plain": [
       "png \n",
       "  2 "
      ]
     },
     "metadata": {},
     "output_type": "display_data"
    }
   ],
   "source": [
    "pdf(str_c(path, \"/umap_DoubletFinder_\",sample,\".pdf\"), height = 8, width = 10)\n",
    "\n",
    "DimPlot(seob, reduction = \"umap\", group.by = \"seurat_clusters\")\n",
    "\n",
    "dev.off()"
   ]
  },
  {
   "cell_type": "code",
   "execution_count": 85,
   "id": "4239c789-ecf5-41d9-a968-4444795625ec",
   "metadata": {
    "collapsed": true,
    "jupyter": {
     "outputs_hidden": true
    },
    "tags": []
   },
   "outputs": [
    {
     "name": "stdout",
     "output_type": "stream",
     "text": [
      "[1] \"Creating artificial doublets for pN = 5%\"\n",
      "[1] \"Creating Seurat object...\"\n",
      "[1] \"Normalizing Seurat object...\"\n",
      "[1] \"Finding variable genes...\"\n",
      "[1] \"Scaling data...\"\n"
     ]
    },
    {
     "name": "stderr",
     "output_type": "stream",
     "text": [
      "Centering and scaling data matrix\n",
      "\n"
     ]
    },
    {
     "name": "stdout",
     "output_type": "stream",
     "text": [
      "[1] \"Running PCA...\"\n",
      "[1] \"Calculating PC distance matrix...\"\n",
      "[1] \"Defining neighborhoods...\"\n",
      "[1] \"Computing pANN across all pK...\"\n",
      "[1] \"pK = 0.001...\"\n",
      "[1] \"pK = 0.005...\"\n",
      "[1] \"pK = 0.01...\"\n",
      "[1] \"pK = 0.02...\"\n",
      "[1] \"pK = 0.03...\"\n",
      "[1] \"pK = 0.04...\"\n",
      "[1] \"pK = 0.05...\"\n",
      "[1] \"pK = 0.06...\"\n",
      "[1] \"pK = 0.07...\"\n",
      "[1] \"pK = 0.08...\"\n",
      "[1] \"pK = 0.09...\"\n",
      "[1] \"pK = 0.1...\"\n",
      "[1] \"pK = 0.11...\"\n",
      "[1] \"pK = 0.12...\"\n",
      "[1] \"pK = 0.13...\"\n",
      "[1] \"pK = 0.14...\"\n",
      "[1] \"pK = 0.15...\"\n",
      "[1] \"pK = 0.16...\"\n",
      "[1] \"pK = 0.17...\"\n",
      "[1] \"pK = 0.18...\"\n",
      "[1] \"pK = 0.19...\"\n",
      "[1] \"pK = 0.2...\"\n",
      "[1] \"pK = 0.21...\"\n",
      "[1] \"pK = 0.22...\"\n",
      "[1] \"pK = 0.23...\"\n",
      "[1] \"pK = 0.24...\"\n",
      "[1] \"pK = 0.25...\"\n",
      "[1] \"pK = 0.26...\"\n",
      "[1] \"pK = 0.27...\"\n",
      "[1] \"pK = 0.28...\"\n",
      "[1] \"pK = 0.29...\"\n",
      "[1] \"pK = 0.3...\"\n",
      "[1] \"Creating artificial doublets for pN = 10%\"\n",
      "[1] \"Creating Seurat object...\"\n",
      "[1] \"Normalizing Seurat object...\"\n",
      "[1] \"Finding variable genes...\"\n",
      "[1] \"Scaling data...\"\n"
     ]
    },
    {
     "name": "stderr",
     "output_type": "stream",
     "text": [
      "Centering and scaling data matrix\n",
      "\n"
     ]
    },
    {
     "name": "stdout",
     "output_type": "stream",
     "text": [
      "[1] \"Running PCA...\"\n",
      "[1] \"Calculating PC distance matrix...\"\n",
      "[1] \"Defining neighborhoods...\"\n",
      "[1] \"Computing pANN across all pK...\"\n",
      "[1] \"pK = 0.001...\"\n",
      "[1] \"pK = 0.005...\"\n",
      "[1] \"pK = 0.01...\"\n",
      "[1] \"pK = 0.02...\"\n",
      "[1] \"pK = 0.03...\"\n",
      "[1] \"pK = 0.04...\"\n",
      "[1] \"pK = 0.05...\"\n",
      "[1] \"pK = 0.06...\"\n",
      "[1] \"pK = 0.07...\"\n",
      "[1] \"pK = 0.08...\"\n",
      "[1] \"pK = 0.09...\"\n",
      "[1] \"pK = 0.1...\"\n",
      "[1] \"pK = 0.11...\"\n",
      "[1] \"pK = 0.12...\"\n",
      "[1] \"pK = 0.13...\"\n",
      "[1] \"pK = 0.14...\"\n",
      "[1] \"pK = 0.15...\"\n",
      "[1] \"pK = 0.16...\"\n",
      "[1] \"pK = 0.17...\"\n",
      "[1] \"pK = 0.18...\"\n",
      "[1] \"pK = 0.19...\"\n",
      "[1] \"pK = 0.2...\"\n",
      "[1] \"pK = 0.21...\"\n",
      "[1] \"pK = 0.22...\"\n",
      "[1] \"pK = 0.23...\"\n",
      "[1] \"pK = 0.24...\"\n",
      "[1] \"pK = 0.25...\"\n",
      "[1] \"pK = 0.26...\"\n",
      "[1] \"pK = 0.27...\"\n",
      "[1] \"pK = 0.28...\"\n",
      "[1] \"pK = 0.29...\"\n",
      "[1] \"pK = 0.3...\"\n",
      "[1] \"Creating artificial doublets for pN = 15%\"\n",
      "[1] \"Creating Seurat object...\"\n",
      "[1] \"Normalizing Seurat object...\"\n",
      "[1] \"Finding variable genes...\"\n",
      "[1] \"Scaling data...\"\n"
     ]
    },
    {
     "name": "stderr",
     "output_type": "stream",
     "text": [
      "Centering and scaling data matrix\n",
      "\n"
     ]
    },
    {
     "name": "stdout",
     "output_type": "stream",
     "text": [
      "[1] \"Running PCA...\"\n",
      "[1] \"Calculating PC distance matrix...\"\n",
      "[1] \"Defining neighborhoods...\"\n",
      "[1] \"Computing pANN across all pK...\"\n",
      "[1] \"pK = 0.001...\"\n",
      "[1] \"pK = 0.005...\"\n",
      "[1] \"pK = 0.01...\"\n",
      "[1] \"pK = 0.02...\"\n",
      "[1] \"pK = 0.03...\"\n",
      "[1] \"pK = 0.04...\"\n",
      "[1] \"pK = 0.05...\"\n",
      "[1] \"pK = 0.06...\"\n",
      "[1] \"pK = 0.07...\"\n",
      "[1] \"pK = 0.08...\"\n",
      "[1] \"pK = 0.09...\"\n",
      "[1] \"pK = 0.1...\"\n",
      "[1] \"pK = 0.11...\"\n",
      "[1] \"pK = 0.12...\"\n",
      "[1] \"pK = 0.13...\"\n",
      "[1] \"pK = 0.14...\"\n",
      "[1] \"pK = 0.15...\"\n",
      "[1] \"pK = 0.16...\"\n",
      "[1] \"pK = 0.17...\"\n",
      "[1] \"pK = 0.18...\"\n",
      "[1] \"pK = 0.19...\"\n",
      "[1] \"pK = 0.2...\"\n",
      "[1] \"pK = 0.21...\"\n",
      "[1] \"pK = 0.22...\"\n",
      "[1] \"pK = 0.23...\"\n",
      "[1] \"pK = 0.24...\"\n",
      "[1] \"pK = 0.25...\"\n",
      "[1] \"pK = 0.26...\"\n",
      "[1] \"pK = 0.27...\"\n",
      "[1] \"pK = 0.28...\"\n",
      "[1] \"pK = 0.29...\"\n",
      "[1] \"pK = 0.3...\"\n",
      "[1] \"Creating artificial doublets for pN = 20%\"\n",
      "[1] \"Creating Seurat object...\"\n",
      "[1] \"Normalizing Seurat object...\"\n",
      "[1] \"Finding variable genes...\"\n",
      "[1] \"Scaling data...\"\n"
     ]
    },
    {
     "name": "stderr",
     "output_type": "stream",
     "text": [
      "Centering and scaling data matrix\n",
      "\n"
     ]
    },
    {
     "name": "stdout",
     "output_type": "stream",
     "text": [
      "[1] \"Running PCA...\"\n",
      "[1] \"Calculating PC distance matrix...\"\n",
      "[1] \"Defining neighborhoods...\"\n",
      "[1] \"Computing pANN across all pK...\"\n",
      "[1] \"pK = 0.001...\"\n",
      "[1] \"pK = 0.005...\"\n",
      "[1] \"pK = 0.01...\"\n",
      "[1] \"pK = 0.02...\"\n",
      "[1] \"pK = 0.03...\"\n",
      "[1] \"pK = 0.04...\"\n",
      "[1] \"pK = 0.05...\"\n",
      "[1] \"pK = 0.06...\"\n",
      "[1] \"pK = 0.07...\"\n",
      "[1] \"pK = 0.08...\"\n",
      "[1] \"pK = 0.09...\"\n",
      "[1] \"pK = 0.1...\"\n",
      "[1] \"pK = 0.11...\"\n",
      "[1] \"pK = 0.12...\"\n",
      "[1] \"pK = 0.13...\"\n",
      "[1] \"pK = 0.14...\"\n",
      "[1] \"pK = 0.15...\"\n",
      "[1] \"pK = 0.16...\"\n",
      "[1] \"pK = 0.17...\"\n",
      "[1] \"pK = 0.18...\"\n",
      "[1] \"pK = 0.19...\"\n",
      "[1] \"pK = 0.2...\"\n",
      "[1] \"pK = 0.21...\"\n",
      "[1] \"pK = 0.22...\"\n",
      "[1] \"pK = 0.23...\"\n",
      "[1] \"pK = 0.24...\"\n",
      "[1] \"pK = 0.25...\"\n",
      "[1] \"pK = 0.26...\"\n",
      "[1] \"pK = 0.27...\"\n",
      "[1] \"pK = 0.28...\"\n",
      "[1] \"pK = 0.29...\"\n",
      "[1] \"pK = 0.3...\"\n",
      "[1] \"Creating artificial doublets for pN = 25%\"\n",
      "[1] \"Creating Seurat object...\"\n",
      "[1] \"Normalizing Seurat object...\"\n",
      "[1] \"Finding variable genes...\"\n",
      "[1] \"Scaling data...\"\n"
     ]
    },
    {
     "name": "stderr",
     "output_type": "stream",
     "text": [
      "Centering and scaling data matrix\n",
      "\n"
     ]
    },
    {
     "name": "stdout",
     "output_type": "stream",
     "text": [
      "[1] \"Running PCA...\"\n",
      "[1] \"Calculating PC distance matrix...\"\n",
      "[1] \"Defining neighborhoods...\"\n",
      "[1] \"Computing pANN across all pK...\"\n",
      "[1] \"pK = 0.001...\"\n",
      "[1] \"pK = 0.005...\"\n",
      "[1] \"pK = 0.01...\"\n",
      "[1] \"pK = 0.02...\"\n",
      "[1] \"pK = 0.03...\"\n",
      "[1] \"pK = 0.04...\"\n",
      "[1] \"pK = 0.05...\"\n",
      "[1] \"pK = 0.06...\"\n",
      "[1] \"pK = 0.07...\"\n",
      "[1] \"pK = 0.08...\"\n",
      "[1] \"pK = 0.09...\"\n",
      "[1] \"pK = 0.1...\"\n",
      "[1] \"pK = 0.11...\"\n",
      "[1] \"pK = 0.12...\"\n",
      "[1] \"pK = 0.13...\"\n",
      "[1] \"pK = 0.14...\"\n",
      "[1] \"pK = 0.15...\"\n",
      "[1] \"pK = 0.16...\"\n",
      "[1] \"pK = 0.17...\"\n",
      "[1] \"pK = 0.18...\"\n",
      "[1] \"pK = 0.19...\"\n",
      "[1] \"pK = 0.2...\"\n",
      "[1] \"pK = 0.21...\"\n",
      "[1] \"pK = 0.22...\"\n",
      "[1] \"pK = 0.23...\"\n",
      "[1] \"pK = 0.24...\"\n",
      "[1] \"pK = 0.25...\"\n",
      "[1] \"pK = 0.26...\"\n",
      "[1] \"pK = 0.27...\"\n",
      "[1] \"pK = 0.28...\"\n",
      "[1] \"pK = 0.29...\"\n",
      "[1] \"pK = 0.3...\"\n",
      "[1] \"Creating artificial doublets for pN = 30%\"\n",
      "[1] \"Creating Seurat object...\"\n",
      "[1] \"Normalizing Seurat object...\"\n",
      "[1] \"Finding variable genes...\"\n",
      "[1] \"Scaling data...\"\n"
     ]
    },
    {
     "name": "stderr",
     "output_type": "stream",
     "text": [
      "Centering and scaling data matrix\n",
      "\n"
     ]
    },
    {
     "name": "stdout",
     "output_type": "stream",
     "text": [
      "[1] \"Running PCA...\"\n",
      "[1] \"Calculating PC distance matrix...\"\n",
      "[1] \"Defining neighborhoods...\"\n",
      "[1] \"Computing pANN across all pK...\"\n",
      "[1] \"pK = 0.001...\"\n",
      "[1] \"pK = 0.005...\"\n",
      "[1] \"pK = 0.01...\"\n",
      "[1] \"pK = 0.02...\"\n",
      "[1] \"pK = 0.03...\"\n",
      "[1] \"pK = 0.04...\"\n",
      "[1] \"pK = 0.05...\"\n",
      "[1] \"pK = 0.06...\"\n",
      "[1] \"pK = 0.07...\"\n",
      "[1] \"pK = 0.08...\"\n",
      "[1] \"pK = 0.09...\"\n",
      "[1] \"pK = 0.1...\"\n",
      "[1] \"pK = 0.11...\"\n",
      "[1] \"pK = 0.12...\"\n",
      "[1] \"pK = 0.13...\"\n",
      "[1] \"pK = 0.14...\"\n",
      "[1] \"pK = 0.15...\"\n",
      "[1] \"pK = 0.16...\"\n",
      "[1] \"pK = 0.17...\"\n",
      "[1] \"pK = 0.18...\"\n",
      "[1] \"pK = 0.19...\"\n",
      "[1] \"pK = 0.2...\"\n",
      "[1] \"pK = 0.21...\"\n",
      "[1] \"pK = 0.22...\"\n",
      "[1] \"pK = 0.23...\"\n",
      "[1] \"pK = 0.24...\"\n",
      "[1] \"pK = 0.25...\"\n",
      "[1] \"pK = 0.26...\"\n",
      "[1] \"pK = 0.27...\"\n",
      "[1] \"pK = 0.28...\"\n",
      "[1] \"pK = 0.29...\"\n",
      "[1] \"pK = 0.3...\"\n",
      "NULL\n"
     ]
    },
    {
     "data": {
      "image/png": "[encoded data removed]",
      "text/plain": [
       "plot without title"
      ]
     },
     "metadata": {
      "image/png": {
       "height": 420,
       "width": 420
      }
     },
     "output_type": "display_data"
    }
   ],
   "source": [
    "# (2) DoubletFinder分析\n",
    "\n",
    "# 首先获得最佳的pK值\n",
    "sweep.res.list <- paramSweep_v3(seob, PCs = 1:30, sct = FALSE)\n",
    "sweep.stats <- summarizeSweep(sweep.res.list, GT = FALSE)\n",
    "bcmvn <- find.pK(sweep.stats)\n",
    "pk_best = bcmvn %>% \n",
    "  dplyr::arrange(desc(BCmetric)) %>% \n",
    "  dplyr::pull(pK) %>% \n",
    "  .[1] %>% as.character() %>% as.numeric()\n",
    "# [1] 0.3"
   ]
  },
  {
   "cell_type": "code",
   "execution_count": 86,
   "id": "6caa4f83-9147-4d51-8974-43c3a3b45a5a",
   "metadata": {},
   "outputs": [
    {
     "data": {
      "text/html": [
       "<strong>png:</strong> 2"
      ],
      "text/latex": [
       "\\textbf{png:} 2"
      ],
      "text/markdown": [
       "**png:** 2"
      ],
      "text/plain": [
       "png \n",
       "  2 "
      ]
     },
     "metadata": {},
     "output_type": "display_data"
    }
   ],
   "source": [
    "pdf(str_c(path, \"/bcmvn_DoubletFinder_\",sample,\".pdf\"), height = 8, width = 12)\n",
    "\n",
    "ggplot(bcmvn, aes(x=pK, y=BCmetric, group=1)) + \n",
    "  geom_point() +\n",
    "  geom_line()\n",
    "# 最佳的pK值是折现的最高点对应的0.03\n",
    "\n",
    "dev.off()"
   ]
  },
  {
   "cell_type": "code",
   "execution_count": 87,
   "id": "b050daad-dcf3-4bfa-88cb-2b16c8bebb1b",
   "metadata": {},
   "outputs": [],
   "source": [
    "# 然后估算出双细胞群中，homotypic doublets的比例(optional)\n",
    "annotations <- seob$seurat_clusters\n",
    "homotypic.prop <- modelHomotypic(annotations)  \n",
    "# [1] 0.3159673"
   ]
  },
  {
   "cell_type": "code",
   "execution_count": 88,
   "id": "6b8f4c7f-98c6-4e8b-a725-c79e1d82dcc9",
   "metadata": {},
   "outputs": [],
   "source": [
    "# 根据10X V3.1,对于8K+的单细胞数据，期望的双细胞占比为7%左右,这个网址有个表格按照细胞的数量来估计双胞率https://blog.csdn.net/zfyyzhys/article/details/142171565\n",
    "nExp_poi <- round(0.07*nrow(seob@meta.data))        #586，8000个细胞的双胞率是0.039，16000个细胞的双胞率是0.076，TM0有29000个细胞，还是按照0.07吧，保险一点\n",
    "nExp_poi.adj <- round(nExp_poi*(1-homotypic.prop)) #473"
   ]
  },
  {
   "cell_type": "code",
   "execution_count": 89,
   "id": "ad3d5515-31c8-46e6-aa37-6f1c78b4cd1c",
   "metadata": {},
   "outputs": [
    {
     "name": "stdout",
     "output_type": "stream",
     "text": [
      "[1] \"Creating 4211 artificial doublets...\"\n",
      "[1] \"Creating Seurat object...\"\n",
      "[1] \"Normalizing Seurat object...\"\n",
      "[1] \"Finding variable genes...\"\n",
      "[1] \"Scaling data...\"\n"
     ]
    },
    {
     "name": "stderr",
     "output_type": "stream",
     "text": [
      "Centering and scaling data matrix\n",
      "\n"
     ]
    },
    {
     "name": "stdout",
     "output_type": "stream",
     "text": [
      "[1] \"Running PCA...\"\n",
      "[1] \"Calculating PC distance matrix...\"\n",
      "[1] \"Computing pANN...\"\n",
      "[1] \"Classifying doublets..\"\n"
     ]
    }
   ],
   "source": [
    "# 最后根据上述参数(pN=0.25, pK=0.3, nExp=0.07), 识别出双细胞\n",
    "seob <- doubletFinder_v3(seob, PCs = 1:30, \n",
    "                        pN = 0.25, pK = pk_best, nExp = nExp_poi, # nExp = nExp_poi.adj, \n",
    "                        reuse.pANN = FALSE, sct = FALSE)"
   ]
  },
  {
   "cell_type": "code",
   "execution_count": 90,
   "id": "5b65fb2d-075c-4dcd-aaeb-a916cabaf02a",
   "metadata": {},
   "outputs": [
    {
     "data": {
      "text/html": [
       "<table class=\"dataframe\">\n",
       "<caption>A data.frame: 4 × 8</caption>\n",
       "<thead>\n",
       "\t<tr><th></th><th scope=col>orig.ident</th><th scope=col>nCount_RNA</th><th scope=col>nFeature_RNA</th><th scope=col>sample</th><th scope=col>RNA_snn_res.0.1</th><th scope=col>seurat_clusters</th><th scope=col>pANN_0.25_0.3_884</th><th scope=col>DF.classifications_0.25_0.3_884</th></tr>\n",
       "\t<tr><th></th><th scope=col>&lt;fct&gt;</th><th scope=col>&lt;dbl&gt;</th><th scope=col>&lt;int&gt;</th><th scope=col>&lt;chr&gt;</th><th scope=col>&lt;fct&gt;</th><th scope=col>&lt;fct&gt;</th><th scope=col>&lt;dbl&gt;</th><th scope=col>&lt;chr&gt;</th></tr>\n",
       "</thead>\n",
       "<tbody>\n",
       "\t<tr><th scope=row>CELL1_N1</th><td>W202412240014716</td><td>2978.372</td><td>2008</td><td>EFM</td><td>1</td><td>1</td><td>0.2113596</td><td>Singlet</td></tr>\n",
       "\t<tr><th scope=row>CELL2_N1</th><td>W202412240014716</td><td>2134.769</td><td>1452</td><td>EFM</td><td>1</td><td>1</td><td>0.1753414</td><td>Singlet</td></tr>\n",
       "\t<tr><th scope=row>CELL3_N1</th><td>W202412240014716</td><td>3020.510</td><td>1861</td><td>EFM</td><td>1</td><td>1</td><td>0.2281813</td><td>Singlet</td></tr>\n",
       "\t<tr><th scope=row>CELL4_N1</th><td>W202412240014716</td><td>2384.682</td><td>1458</td><td>EFM</td><td>1</td><td>1</td><td>0.2388680</td><td>Singlet</td></tr>\n",
       "</tbody>\n",
       "</table>\n"
      ],
      "text/latex": [
       "A data.frame: 4 × 8\n",
       "\\begin{tabular}{r|llllllll}\n",
       "  & orig.ident & nCount\\_RNA & nFeature\\_RNA & sample & RNA\\_snn\\_res.0.1 & seurat\\_clusters & pANN\\_0.25\\_0.3\\_884 & DF.classifications\\_0.25\\_0.3\\_884\\\\\n",
       "  & <fct> & <dbl> & <int> & <chr> & <fct> & <fct> & <dbl> & <chr>\\\\\n",
       "\\hline\n",
       "\tCELL1\\_N1 & W202412240014716 & 2978.372 & 2008 & EFM & 1 & 1 & 0.2113596 & Singlet\\\\\n",
       "\tCELL2\\_N1 & W202412240014716 & 2134.769 & 1452 & EFM & 1 & 1 & 0.1753414 & Singlet\\\\\n",
       "\tCELL3\\_N1 & W202412240014716 & 3020.510 & 1861 & EFM & 1 & 1 & 0.2281813 & Singlet\\\\\n",
       "\tCELL4\\_N1 & W202412240014716 & 2384.682 & 1458 & EFM & 1 & 1 & 0.2388680 & Singlet\\\\\n",
       "\\end{tabular}\n"
      ],
      "text/markdown": [
       "\n",
       "A data.frame: 4 × 8\n",
       "\n",
       "| <!--/--> | orig.ident &lt;fct&gt; | nCount_RNA &lt;dbl&gt; | nFeature_RNA &lt;int&gt; | sample &lt;chr&gt; | RNA_snn_res.0.1 &lt;fct&gt; | seurat_clusters &lt;fct&gt; | pANN_0.25_0.3_884 &lt;dbl&gt; | DF.classifications_0.25_0.3_884 &lt;chr&gt; |\n",
       "|---|---|---|---|---|---|---|---|---|\n",
       "| CELL1_N1 | W202412240014716 | 2978.372 | 2008 | EFM | 1 | 1 | 0.2113596 | Singlet |\n",
       "| CELL2_N1 | W202412240014716 | 2134.769 | 1452 | EFM | 1 | 1 | 0.1753414 | Singlet |\n",
       "| CELL3_N1 | W202412240014716 | 3020.510 | 1861 | EFM | 1 | 1 | 0.2281813 | Singlet |\n",
       "| CELL4_N1 | W202412240014716 | 2384.682 | 1458 | EFM | 1 | 1 | 0.2388680 | Singlet |\n",
       "\n"
      ],
      "text/plain": [
       "         orig.ident       nCount_RNA nFeature_RNA sample RNA_snn_res.0.1\n",
       "CELL1_N1 W202412240014716 2978.372   2008         EFM    1              \n",
       "CELL2_N1 W202412240014716 2134.769   1452         EFM    1              \n",
       "CELL3_N1 W202412240014716 3020.510   1861         EFM    1              \n",
       "CELL4_N1 W202412240014716 2384.682   1458         EFM    1              \n",
       "         seurat_clusters pANN_0.25_0.3_884 DF.classifications_0.25_0.3_884\n",
       "CELL1_N1 1               0.2113596         Singlet                        \n",
       "CELL2_N1 1               0.1753414         Singlet                        \n",
       "CELL3_N1 1               0.2281813         Singlet                        \n",
       "CELL4_N1 1               0.2388680         Singlet                        "
      ]
     },
     "metadata": {},
     "output_type": "display_data"
    }
   ],
   "source": [
    "seob@meta.data[1:4,]"
   ]
  },
  {
   "cell_type": "code",
   "execution_count": 91,
   "id": "c5fb46b5-e383-4961-b99d-38e4082ece61",
   "metadata": {},
   "outputs": [],
   "source": [
    "# # 从meta.data中获取指定列名的值\n",
    "name = colnames(seob@meta.data)[[8]]"
   ]
  },
  {
   "cell_type": "code",
   "execution_count": 92,
   "id": "3b6be697-69d7-41d1-b421-56b9f6205ad2",
   "metadata": {},
   "outputs": [
    {
     "data": {
      "text/html": [
       "<strong>png:</strong> 2"
      ],
      "text/latex": [
       "\\textbf{png:} 2"
      ],
      "text/markdown": [
       "**png:** 2"
      ],
      "text/plain": [
       "png \n",
       "  2 "
      ]
     },
     "metadata": {},
     "output_type": "display_data"
    }
   ],
   "source": [
    "pdf(str_c(path, \"/Doubletcounts_DoubletFinder_\",sample,\".pdf\"), height = 10, width = 12)\n",
    "\n",
    "DimPlot(seob, reduction = \"umap\", \n",
    "        group.by = name)\n",
    "\n",
    "VlnPlot(seob, group.by = name, \n",
    "        features = c(\"nCount_RNA\", \"nFeature_RNA\"), \n",
    "        pt.size = 0, ncol = 2)\n",
    "\n",
    "dev.off()"
   ]
  },
  {
   "cell_type": "code",
   "execution_count": 93,
   "id": "8e1051dd-dc63-46f4-81ec-7b211764c865",
   "metadata": {},
   "outputs": [],
   "source": [
    "# load(file = str_c(path, \"/DoubletFinder_\",sample,\".rdata\"))"
   ]
  },
  {
   "cell_type": "code",
   "execution_count": 94,
   "id": "20522a1f-5421-417c-86ff-e820012ab362",
   "metadata": {},
   "outputs": [
    {
     "data": {
      "text/html": [
       "<style>\n",
       ".list-inline {list-style: none; margin:0; padding: 0}\n",
       ".list-inline>li {display: inline-block}\n",
       ".list-inline>li:not(:last-child)::after {content: \"\\00b7\"; padding: 0 .5ex}\n",
       "</style>\n",
       "<ol class=list-inline><li>29681</li><li>12633</li></ol>\n"
      ],
      "text/latex": [
       "\\begin{enumerate*}\n",
       "\\item 29681\n",
       "\\item 12633\n",
       "\\end{enumerate*}\n"
      ],
      "text/markdown": [
       "1. 29681\n",
       "2. 12633\n",
       "\n",
       "\n"
      ],
      "text/plain": [
       "[1] 29681 12633"
      ]
     },
     "metadata": {},
     "output_type": "display_data"
    }
   ],
   "source": [
    "dim(seob) #去双胞前有29681个基因，12633个细胞"
   ]
  },
  {
   "cell_type": "code",
   "execution_count": 95,
   "id": "1a2af1dd-ad6d-47e4-b328-494ea6dfdfb6",
   "metadata": {},
   "outputs": [],
   "source": [
    "# 取出单胞\n",
    "\n",
    "seob <- seob[, seob@meta.data[[name]] == \"Singlet\"]\n"
   ]
  },
  {
   "cell_type": "code",
   "execution_count": 96,
   "id": "fc2ff0f8-b9cf-4cad-9b57-2fa811d3f8eb",
   "metadata": {},
   "outputs": [
    {
     "data": {
      "text/html": [
       "<style>\n",
       ".list-inline {list-style: none; margin:0; padding: 0}\n",
       ".list-inline>li {display: inline-block}\n",
       ".list-inline>li:not(:last-child)::after {content: \"\\00b7\"; padding: 0 .5ex}\n",
       "</style>\n",
       "<ol class=list-inline><li>29681</li><li>11749</li></ol>\n"
      ],
      "text/latex": [
       "\\begin{enumerate*}\n",
       "\\item 29681\n",
       "\\item 11749\n",
       "\\end{enumerate*}\n"
      ],
      "text/markdown": [
       "1. 29681\n",
       "2. 11749\n",
       "\n",
       "\n"
      ],
      "text/plain": [
       "[1] 29681 11749"
      ]
     },
     "metadata": {},
     "output_type": "display_data"
    }
   ],
   "source": [
    "dim(seob) #去除单胞后还有11749个细胞，比原来少了884个细胞"
   ]
  },
  {
   "cell_type": "markdown",
   "id": "a041adf5-1821-47cf-bf2d-ec48832dfd79",
   "metadata": {},
   "source": [
    "## 添加线粒体和叶绿体信息"
   ]
  },
  {
   "cell_type": "code",
   "execution_count": 99,
   "id": "a128bf2b-0fe3-4edb-a594-54cf332914a4",
   "metadata": {},
   "outputs": [],
   "source": [
    "seob[[\"percent.mt\"]] <- PercentageFeatureSet(\n",
    "  seob,\n",
    "  pattern = \"^MT\" #获取线粒体基因列表\n",
    "  # features = mt_genes\n",
    ")\n",
    "\n",
    "seob[[\"percent.cp\"]] <- PercentageFeatureSet(\n",
    "  seob,\n",
    "  pattern = \"^CP\" #获取叶绿体基因列表\n",
    "  # features = mt_genes\n",
    ")"
   ]
  },
  {
   "cell_type": "code",
   "execution_count": 100,
   "id": "e6a70149-1bb3-4b88-bc7c-5562eb5b8832",
   "metadata": {},
   "outputs": [
    {
     "data": {
      "text/html": [
       "<table class=\"dataframe\">\n",
       "<caption>A data.frame: 4 × 9</caption>\n",
       "<thead>\n",
       "\t<tr><th></th><th scope=col>orig.ident</th><th scope=col>nCount_RNA</th><th scope=col>nFeature_RNA</th><th scope=col>sample</th><th scope=col>RNA_snn_res.0.1</th><th scope=col>seurat_clusters</th><th scope=col>pANN_0.25_0.3_884</th><th scope=col>DF.classifications_0.25_0.3_884</th><th scope=col>percent.cp</th></tr>\n",
       "\t<tr><th></th><th scope=col>&lt;fct&gt;</th><th scope=col>&lt;dbl&gt;</th><th scope=col>&lt;int&gt;</th><th scope=col>&lt;chr&gt;</th><th scope=col>&lt;fct&gt;</th><th scope=col>&lt;fct&gt;</th><th scope=col>&lt;dbl&gt;</th><th scope=col>&lt;chr&gt;</th><th scope=col>&lt;dbl&gt;</th></tr>\n",
       "</thead>\n",
       "<tbody>\n",
       "\t<tr><th scope=row>CELL1_N1</th><td>W202412240014716</td><td>2978.372</td><td>2008</td><td>EFM</td><td>1</td><td>1</td><td>0.2113596</td><td>Singlet</td><td>0.00000000</td></tr>\n",
       "\t<tr><th scope=row>CELL2_N1</th><td>W202412240014716</td><td>2134.769</td><td>1452</td><td>EFM</td><td>1</td><td>1</td><td>0.1753414</td><td>Singlet</td><td>0.04099547</td></tr>\n",
       "\t<tr><th scope=row>CELL3_N1</th><td>W202412240014716</td><td>3020.510</td><td>1861</td><td>EFM</td><td>1</td><td>1</td><td>0.2281813</td><td>Singlet</td><td>0.00000000</td></tr>\n",
       "\t<tr><th scope=row>CELL4_N1</th><td>W202412240014716</td><td>2384.682</td><td>1458</td><td>EFM</td><td>1</td><td>1</td><td>0.2388680</td><td>Singlet</td><td>0.03615260</td></tr>\n",
       "</tbody>\n",
       "</table>\n"
      ],
      "text/latex": [
       "A data.frame: 4 × 9\n",
       "\\begin{tabular}{r|lllllllll}\n",
       "  & orig.ident & nCount\\_RNA & nFeature\\_RNA & sample & RNA\\_snn\\_res.0.1 & seurat\\_clusters & pANN\\_0.25\\_0.3\\_884 & DF.classifications\\_0.25\\_0.3\\_884 & percent.cp\\\\\n",
       "  & <fct> & <dbl> & <int> & <chr> & <fct> & <fct> & <dbl> & <chr> & <dbl>\\\\\n",
       "\\hline\n",
       "\tCELL1\\_N1 & W202412240014716 & 2978.372 & 2008 & EFM & 1 & 1 & 0.2113596 & Singlet & 0.00000000\\\\\n",
       "\tCELL2\\_N1 & W202412240014716 & 2134.769 & 1452 & EFM & 1 & 1 & 0.1753414 & Singlet & 0.04099547\\\\\n",
       "\tCELL3\\_N1 & W202412240014716 & 3020.510 & 1861 & EFM & 1 & 1 & 0.2281813 & Singlet & 0.00000000\\\\\n",
       "\tCELL4\\_N1 & W202412240014716 & 2384.682 & 1458 & EFM & 1 & 1 & 0.2388680 & Singlet & 0.03615260\\\\\n",
       "\\end{tabular}\n"
      ],
      "text/markdown": [
       "\n",
       "A data.frame: 4 × 9\n",
       "\n",
       "| <!--/--> | orig.ident &lt;fct&gt; | nCount_RNA &lt;dbl&gt; | nFeature_RNA &lt;int&gt; | sample &lt;chr&gt; | RNA_snn_res.0.1 &lt;fct&gt; | seurat_clusters &lt;fct&gt; | pANN_0.25_0.3_884 &lt;dbl&gt; | DF.classifications_0.25_0.3_884 &lt;chr&gt; | percent.cp &lt;dbl&gt; |\n",
       "|---|---|---|---|---|---|---|---|---|---|\n",
       "| CELL1_N1 | W202412240014716 | 2978.372 | 2008 | EFM | 1 | 1 | 0.2113596 | Singlet | 0.00000000 |\n",
       "| CELL2_N1 | W202412240014716 | 2134.769 | 1452 | EFM | 1 | 1 | 0.1753414 | Singlet | 0.04099547 |\n",
       "| CELL3_N1 | W202412240014716 | 3020.510 | 1861 | EFM | 1 | 1 | 0.2281813 | Singlet | 0.00000000 |\n",
       "| CELL4_N1 | W202412240014716 | 2384.682 | 1458 | EFM | 1 | 1 | 0.2388680 | Singlet | 0.03615260 |\n",
       "\n"
      ],
      "text/plain": [
       "         orig.ident       nCount_RNA nFeature_RNA sample RNA_snn_res.0.1\n",
       "CELL1_N1 W202412240014716 2978.372   2008         EFM    1              \n",
       "CELL2_N1 W202412240014716 2134.769   1452         EFM    1              \n",
       "CELL3_N1 W202412240014716 3020.510   1861         EFM    1              \n",
       "CELL4_N1 W202412240014716 2384.682   1458         EFM    1              \n",
       "         seurat_clusters pANN_0.25_0.3_884 DF.classifications_0.25_0.3_884\n",
       "CELL1_N1 1               0.2113596         Singlet                        \n",
       "CELL2_N1 1               0.1753414         Singlet                        \n",
       "CELL3_N1 1               0.2281813         Singlet                        \n",
       "CELL4_N1 1               0.2388680         Singlet                        \n",
       "         percent.cp\n",
       "CELL1_N1 0.00000000\n",
       "CELL2_N1 0.04099547\n",
       "CELL3_N1 0.00000000\n",
       "CELL4_N1 0.03615260"
      ]
     },
     "metadata": {},
     "output_type": "display_data"
    }
   ],
   "source": [
    "seob@meta.data[1:4,]"
   ]
  },
  {
   "cell_type": "markdown",
   "id": "4a65f087-9b9a-4998-8f6f-4765bed037a5",
   "metadata": {},
   "source": [
    "## 添加细胞周期\n",
    "\n",
    "Seurat可以对细胞周期进行打分，从而推断细胞周期"
   ]
  },
  {
   "cell_type": "code",
   "execution_count": 101,
   "id": "2e1b4441-cd42-44f3-b57f-08fae7222d1c",
   "metadata": {},
   "outputs": [],
   "source": [
    "# 读取文件\n",
    "library(readr)\n",
    "ccgenes_s <- read.table(\n",
    "  file = \"/data/work/input/DoubletFinder/cell_cycles_ITAG4.1_S_241212.csv\",\n",
    "  sep = \",\",\n",
    "  header = T)\n",
    "\n",
    "ccgenes_g2m <- read.table(\n",
    "  file = \"/data/work/input/DoubletFinder/cell_cycles_ITAG4.1_G2M_241212.csv\",\n",
    "  sep = \",\",\n",
    "  header = T)\n",
    "\n",
    "cc.genes$s.genes <- ccgenes_s$Gene_SL4.0\n",
    "cc.genes$g2m.genes <- ccgenes_g2m$Gene_SL4.0"
   ]
  },
  {
   "cell_type": "code",
   "execution_count": 102,
   "id": "a2aba6ca-78e6-442a-9b80-909a2633d77c",
   "metadata": {},
   "outputs": [
    {
     "name": "stderr",
     "output_type": "stream",
     "text": [
      "Warning message:\n",
      "\"The following features are not present in the object: gene:Solyc04g049530.1, not searching for symbol synonyms\"\n"
     ]
    }
   ],
   "source": [
    "seob <- CellCycleScoring(\n",
    "  seob,\n",
    "  s.features = cc.genes$s.genes,\n",
    "  g2m.features = cc.genes$g2m.genes\n",
    ")"
   ]
  },
  {
   "cell_type": "code",
   "execution_count": 103,
   "id": "461608c6-35d0-4eb3-90ac-db6e916607b5",
   "metadata": {},
   "outputs": [
    {
     "data": {
      "text/html": [
       "<table class=\"dataframe\">\n",
       "<caption>A data.frame: 4 × 12</caption>\n",
       "<thead>\n",
       "\t<tr><th></th><th scope=col>orig.ident</th><th scope=col>nCount_RNA</th><th scope=col>nFeature_RNA</th><th scope=col>sample</th><th scope=col>RNA_snn_res.0.1</th><th scope=col>seurat_clusters</th><th scope=col>pANN_0.25_0.3_884</th><th scope=col>DF.classifications_0.25_0.3_884</th><th scope=col>percent.cp</th><th scope=col>S.Score</th><th scope=col>G2M.Score</th><th scope=col>Phase</th></tr>\n",
       "\t<tr><th></th><th scope=col>&lt;fct&gt;</th><th scope=col>&lt;dbl&gt;</th><th scope=col>&lt;int&gt;</th><th scope=col>&lt;chr&gt;</th><th scope=col>&lt;fct&gt;</th><th scope=col>&lt;fct&gt;</th><th scope=col>&lt;dbl&gt;</th><th scope=col>&lt;chr&gt;</th><th scope=col>&lt;dbl&gt;</th><th scope=col>&lt;dbl&gt;</th><th scope=col>&lt;dbl&gt;</th><th scope=col>&lt;chr&gt;</th></tr>\n",
       "</thead>\n",
       "<tbody>\n",
       "\t<tr><th scope=row>CELL1_N1</th><td>W202412240014716</td><td>2978.372</td><td>2008</td><td>EFM</td><td>1</td><td>1</td><td>0.2113596</td><td>Singlet</td><td>0.00000000</td><td> 0.003521321</td><td>-0.03459725</td><td>S  </td></tr>\n",
       "\t<tr><th scope=row>CELL2_N1</th><td>W202412240014716</td><td>2134.769</td><td>1452</td><td>EFM</td><td>1</td><td>1</td><td>0.1753414</td><td>Singlet</td><td>0.04099547</td><td>-0.055136145</td><td> 0.30412381</td><td>G2M</td></tr>\n",
       "\t<tr><th scope=row>CELL3_N1</th><td>W202412240014716</td><td>3020.510</td><td>1861</td><td>EFM</td><td>1</td><td>1</td><td>0.2281813</td><td>Singlet</td><td>0.00000000</td><td> 0.031769494</td><td>-0.12607667</td><td>S  </td></tr>\n",
       "\t<tr><th scope=row>CELL4_N1</th><td>W202412240014716</td><td>2384.682</td><td>1458</td><td>EFM</td><td>1</td><td>1</td><td>0.2388680</td><td>Singlet</td><td>0.03615260</td><td> 0.063668711</td><td>-0.10589261</td><td>S  </td></tr>\n",
       "</tbody>\n",
       "</table>\n"
      ],
      "text/latex": [
       "A data.frame: 4 × 12\n",
       "\\begin{tabular}{r|llllllllllll}\n",
       "  & orig.ident & nCount\\_RNA & nFeature\\_RNA & sample & RNA\\_snn\\_res.0.1 & seurat\\_clusters & pANN\\_0.25\\_0.3\\_884 & DF.classifications\\_0.25\\_0.3\\_884 & percent.cp & S.Score & G2M.Score & Phase\\\\\n",
       "  & <fct> & <dbl> & <int> & <chr> & <fct> & <fct> & <dbl> & <chr> & <dbl> & <dbl> & <dbl> & <chr>\\\\\n",
       "\\hline\n",
       "\tCELL1\\_N1 & W202412240014716 & 2978.372 & 2008 & EFM & 1 & 1 & 0.2113596 & Singlet & 0.00000000 &  0.003521321 & -0.03459725 & S  \\\\\n",
       "\tCELL2\\_N1 & W202412240014716 & 2134.769 & 1452 & EFM & 1 & 1 & 0.1753414 & Singlet & 0.04099547 & -0.055136145 &  0.30412381 & G2M\\\\\n",
       "\tCELL3\\_N1 & W202412240014716 & 3020.510 & 1861 & EFM & 1 & 1 & 0.2281813 & Singlet & 0.00000000 &  0.031769494 & -0.12607667 & S  \\\\\n",
       "\tCELL4\\_N1 & W202412240014716 & 2384.682 & 1458 & EFM & 1 & 1 & 0.2388680 & Singlet & 0.03615260 &  0.063668711 & -0.10589261 & S  \\\\\n",
       "\\end{tabular}\n"
      ],
      "text/markdown": [
       "\n",
       "A data.frame: 4 × 12\n",
       "\n",
       "| <!--/--> | orig.ident &lt;fct&gt; | nCount_RNA &lt;dbl&gt; | nFeature_RNA &lt;int&gt; | sample &lt;chr&gt; | RNA_snn_res.0.1 &lt;fct&gt; | seurat_clusters &lt;fct&gt; | pANN_0.25_0.3_884 &lt;dbl&gt; | DF.classifications_0.25_0.3_884 &lt;chr&gt; | percent.cp &lt;dbl&gt; | S.Score &lt;dbl&gt; | G2M.Score &lt;dbl&gt; | Phase &lt;chr&gt; |\n",
       "|---|---|---|---|---|---|---|---|---|---|---|---|---|\n",
       "| CELL1_N1 | W202412240014716 | 2978.372 | 2008 | EFM | 1 | 1 | 0.2113596 | Singlet | 0.00000000 |  0.003521321 | -0.03459725 | S   |\n",
       "| CELL2_N1 | W202412240014716 | 2134.769 | 1452 | EFM | 1 | 1 | 0.1753414 | Singlet | 0.04099547 | -0.055136145 |  0.30412381 | G2M |\n",
       "| CELL3_N1 | W202412240014716 | 3020.510 | 1861 | EFM | 1 | 1 | 0.2281813 | Singlet | 0.00000000 |  0.031769494 | -0.12607667 | S   |\n",
       "| CELL4_N1 | W202412240014716 | 2384.682 | 1458 | EFM | 1 | 1 | 0.2388680 | Singlet | 0.03615260 |  0.063668711 | -0.10589261 | S   |\n",
       "\n"
      ],
      "text/plain": [
       "         orig.ident       nCount_RNA nFeature_RNA sample RNA_snn_res.0.1\n",
       "CELL1_N1 W202412240014716 2978.372   2008         EFM    1              \n",
       "CELL2_N1 W202412240014716 2134.769   1452         EFM    1              \n",
       "CELL3_N1 W202412240014716 3020.510   1861         EFM    1              \n",
       "CELL4_N1 W202412240014716 2384.682   1458         EFM    1              \n",
       "         seurat_clusters pANN_0.25_0.3_884 DF.classifications_0.25_0.3_884\n",
       "CELL1_N1 1               0.2113596         Singlet                        \n",
       "CELL2_N1 1               0.1753414         Singlet                        \n",
       "CELL3_N1 1               0.2281813         Singlet                        \n",
       "CELL4_N1 1               0.2388680         Singlet                        \n",
       "         percent.cp S.Score      G2M.Score   Phase\n",
       "CELL1_N1 0.00000000  0.003521321 -0.03459725 S    \n",
       "CELL2_N1 0.04099547 -0.055136145  0.30412381 G2M  \n",
       "CELL3_N1 0.00000000  0.031769494 -0.12607667 S    \n",
       "CELL4_N1 0.03615260  0.063668711 -0.10589261 S    "
      ]
     },
     "metadata": {},
     "output_type": "display_data"
    }
   ],
   "source": [
    "seob@meta.data[1:4,]"
   ]
  },
  {
   "cell_type": "markdown",
   "id": "c3822f0d-7ec2-4cd0-9350-828f4f793da9",
   "metadata": {},
   "source": [
    "## 可视化\n",
    "\n",
    "### 箱线图"
   ]
  },
  {
   "cell_type": "code",
   "execution_count": 104,
   "id": "2bf1294b-9366-4fd4-912d-2c9cad92392a",
   "metadata": {},
   "outputs": [
    {
     "data": {
      "text/html": [
       "<strong>png:</strong> 2"
      ],
      "text/latex": [
       "\\textbf{png:} 2"
      ],
      "text/markdown": [
       "**png:** 2"
      ],
      "text/plain": [
       "png \n",
       "  2 "
      ]
     },
     "metadata": {},
     "output_type": "display_data"
    }
   ],
   "source": [
    "pdf(str_c(path, \"/VlnPlot_\",sample,\".pdf\"), height = 8, width = 12)\n",
    "\n",
    "VlnPlot(\n",
    "  seob,\n",
    "  features = c(\"nFeature_RNA\",\"nCount_RNA\"),\n",
    "  group.by = \"sample\",\n",
    "  log = T,\n",
    "  pt.size = 0.1\n",
    ")\n",
    "\n",
    "dev.off()"
   ]
  },
  {
   "cell_type": "markdown",
   "id": "5162b7eb-9119-4ffa-a5c0-e8d8365fe64f",
   "metadata": {},
   "source": [
    "### 山峦图"
   ]
  },
  {
   "cell_type": "code",
   "execution_count": 105,
   "id": "548bf7ce-1b14-46c4-8616-ef1ed2a26efe",
   "metadata": {},
   "outputs": [
    {
     "name": "stderr",
     "output_type": "stream",
     "text": [
      "\u001b[1m\u001b[22mScale for \u001b[32mx\u001b[39m is already present.\n",
      "Adding another scale for \u001b[32mx\u001b[39m, which will replace the existing scale.\n",
      "\u001b[1m\u001b[22mScale for \u001b[32mx\u001b[39m is already present.\n",
      "Adding another scale for \u001b[32mx\u001b[39m, which will replace the existing scale.\n",
      "Picking joint bandwidth of 0.02\n",
      "\n",
      "Picking joint bandwidth of 0.0324\n",
      "\n"
     ]
    },
    {
     "data": {
      "text/html": [
       "<strong>png:</strong> 2"
      ],
      "text/latex": [
       "\\textbf{png:} 2"
      ],
      "text/markdown": [
       "**png:** 2"
      ],
      "text/plain": [
       "png \n",
       "  2 "
      ]
     },
     "metadata": {},
     "output_type": "display_data"
    }
   ],
   "source": [
    "pdf(str_c(path, \"/RidgePlot_\",sample,\".pdf\"), height = 4, width = 8)\n",
    "\n",
    "RidgePlot(\n",
    "  object = seob,\n",
    "  features = c(\"nFeature_RNA\",\"nCount_RNA\"),\n",
    "  log = T,\n",
    "  ncol = 1,\n",
    "  group.by = \"sample\"\n",
    ")\n",
    "\n",
    "dev.off()"
   ]
  },
  {
   "cell_type": "markdown",
   "id": "3f78a493-0eb1-46f7-b1ff-f0be5c24b096",
   "metadata": {},
   "source": [
    "### 散点图"
   ]
  },
  {
   "cell_type": "code",
   "execution_count": 106,
   "id": "6b71dfde-6812-4d09-b24d-1ea58ad582bf",
   "metadata": {
    "lines_to_next_cell": 0
   },
   "outputs": [
    {
     "data": {
      "text/html": [
       "<strong>png:</strong> 2"
      ],
      "text/latex": [
       "\\textbf{png:} 2"
      ],
      "text/markdown": [
       "**png:** 2"
      ],
      "text/plain": [
       "png \n",
       "  2 "
      ]
     },
     "metadata": {},
     "output_type": "display_data"
    }
   ],
   "source": [
    "pdf(str_c(path, \"/FeatureScatter_\",sample,\".pdf\"), height = 4, width = 12)\n",
    "\n",
    "p1 <- FeatureScatter(\n",
    "  seob,\n",
    "  feature1 = \"nCount_RNA\",\n",
    "  feature2 = \"nFeature_RNA\",\n",
    "  group.by = \"sample\"\n",
    ")\n",
    "\n",
    "p2 <- FeatureScatter(\n",
    "  seob,\n",
    "  feature1 = \"nCount_RNA\",\n",
    "  feature2 = \"percent.mt\",\n",
    "  group.by = \"sample\"\n",
    ")\n",
    "\n",
    "p3 <- FeatureScatter(\n",
    "  seob,\n",
    "  feature1 = \"nCount_RNA\",\n",
    "  feature2 = \"percent.cp\",\n",
    "  group.by = \"sample\"\n",
    ")\n",
    "p1+p2+p3\n",
    "dev.off()"
   ]
  },
  {
   "cell_type": "code",
   "execution_count": 107,
   "id": "f1edfc92-8942-4283-b38b-c522611e6777",
   "metadata": {},
   "outputs": [],
   "source": [
    "# 过滤线粒体和叶绿体基因比例过高的细胞\n",
    "\n",
    "seob <- subset(\n",
    "    seob,\n",
    "    subset = percent.mt <1 &\n",
    "    percent.cp < 1\n",
    ")"
   ]
  },
  {
   "cell_type": "code",
   "execution_count": 108,
   "id": "579e9e86-d291-47a1-800f-3c969344c43d",
   "metadata": {},
   "outputs": [],
   "source": [
    "save(seob,file = str_c(path, \"/Singlet_\",sample,\".rdata\"))"
   ]
  },
  {
   "cell_type": "code",
   "execution_count": 109,
   "id": "464877c0-d05c-434a-af85-0ef9edd7a006",
   "metadata": {},
   "outputs": [],
   "source": [
    "seob <- SCTransform(\n",
    "    seob,\n",
    "    variable.features.n = 3000,\n",
    "    verbose = FALSE\n",
    ")"
   ]
  },
  {
   "cell_type": "code",
   "execution_count": 110,
   "id": "fb35b248-edb3-4990-bbbb-a3a0c1c44273",
   "metadata": {
    "collapsed": true,
    "jupyter": {
     "outputs_hidden": true
    },
    "tags": []
   },
   "outputs": [
    {
     "name": "stderr",
     "output_type": "stream",
     "text": [
      "PC_ 1 \n",
      "Positive:  gene:Solyc01g099410.3, gene:Solyc04g011390.1, gene:Solyc01g086820.5, gene:Solyc06g074790.3, gene:Solyc01g073970.3, gene:Solyc05g055430.5, gene:Solyc10g008910.1, gene:Solyc11g007920.1, gene:Solyc02g077480.1, gene:Solyc06g075960.1 \n",
      "\t   gene:Solyc09g010400.3, gene:Solyc09g083380.5, gene:Solyc01g074000.4, gene:Solyc11g072860.2, gene:Solyc11g066430.3, gene:Solyc01g079110.5, gene:Solyc06g075830.2, gene:Solyc06g005420.1, gene:Solyc06g075850.1, gene:Solyc06g074780.1 \n",
      "\t   gene:Solyc06g075930.1, gene:Solyc06g075800.1, gene:Solyc11g073250.2, gene:Solyc11g073260.2, gene:Solyc06g005430.1, gene:Solyc11g072840.1, gene:Solyc09g074300.1, gene:Solyc05g054610.1, gene:Solyc01g086800.4, gene:Solyc02g038690.1 \n",
      "Negative:  gene:Solyc01g006400.4, gene:Solyc07g006380.3, gene:Solyc07g007750.3, gene:Solyc06g074820.3, gene:Solyc11g020960.2, gene:Solyc03g098780.2, gene:Solyc07g007755.2, gene:Solyc09g084480.3, gene:Solyc07g043420.3, gene:Solyc03g034220.3 \n",
      "\t   gene:Solyc07g047850.3, gene:Solyc06g076140.5, gene:Solyc11g022590.1, gene:Solyc12g094620.3, gene:Solyc06g062370.4, gene:Solyc07g065090.2, gene:Solyc07g066150.1, gene:Solyc01g006390.2, gene:Solyc03g098795.1, gene:Solyc08g074683.1 \n",
      "\t   gene:Solyc05g054760.5, gene:Solyc08g074630.2, gene:Solyc02g070940.1, gene:Solyc02g080530.3, gene:Solyc12g006470.2, gene:Solyc12g087940.2, gene:Solyc02g065400.3, gene:Solyc09g084470.3, gene:Solyc08g006930.3, gene:Solyc08g074620.3 \n",
      "PC_ 2 \n",
      "Positive:  gene:Solyc02g087880.3, gene:Solyc08g082070.3, gene:Solyc01g080750.3, gene:Solyc05g055680.5, gene:Solyc10g085020.3, gene:Solyc11g065190.3, gene:Solyc10g080360.1, gene:Solyc02g083890.4, gene:Solyc02g088830.5, gene:Solyc02g070210.3 \n",
      "\t   gene:Solyc07g065530.1, gene:Solyc05g014370.3, gene:Solyc02g062170.3, gene:Solyc06g072830.5, gene:Solyc06g053760.3, gene:Solyc07g007190.3, gene:Solyc04g080940.4, gene:Solyc03g121080.3, gene:Solyc10g080950.2, gene:Solyc03g007130.4 \n",
      "\t   gene:Solyc07g041770.1, gene:Solyc07g043070.3, gene:Solyc10g078330.2, gene:Solyc02g083640.5, gene:Solyc01g106540.5, gene:Solyc06g043150.4, gene:Solyc09g042710.3, gene:Solyc07g065210.5, gene:Solyc03g119220.3, gene:Solyc03g120950.3 \n",
      "Negative:  gene:Solyc07g006380.3, gene:Solyc01g006400.4, gene:Solyc07g007750.3, gene:Solyc09g084480.3, gene:Solyc03g098780.2, gene:Solyc08g074620.3, gene:Solyc09g084470.3, gene:Solyc07g043420.3, gene:Solyc01g099410.3, gene:Solyc09g089530.3 \n",
      "\t   gene:Solyc06g074260.4, gene:Solyc12g011010.2, gene:Solyc11g020960.2, gene:Solyc09g092720.3, gene:Solyc06g062370.4, gene:Solyc09g062970.1, gene:Solyc07g055950.3, gene:Solyc03g098795.1, gene:Solyc00g500164.1, gene:Solyc01g006390.2 \n",
      "\t   gene:Solyc10g075100.2, gene:Solyc11g022590.1, gene:Solyc05g053550.3, gene:Solyc09g018010.3, gene:Solyc03g121600.4, gene:Solyc11g021060.2, gene:Solyc06g064820.3, gene:Solyc01g091170.3, gene:Solyc12g006470.2, gene:Solyc05g055430.5 \n",
      "PC_ 3 \n",
      "Positive:  gene:Solyc07g006380.3, gene:Solyc02g087880.3, gene:Solyc08g082070.3, gene:Solyc01g080750.3, gene:Solyc08g074620.3, gene:Solyc05g055680.5, gene:Solyc11g065190.3, gene:Solyc10g080360.1, gene:Solyc02g083890.4, gene:Solyc02g088830.5 \n",
      "\t   gene:Solyc05g014370.3, gene:Solyc02g070210.3, gene:Solyc07g065530.1, gene:Solyc09g084470.3, gene:Solyc12g011010.2, gene:Solyc10g085020.3, gene:Solyc06g074260.4, gene:Solyc09g092720.3, gene:Solyc02g062170.3, gene:Solyc06g072830.5 \n",
      "\t   gene:Solyc09g062970.1, gene:Solyc09g089530.3, gene:Solyc10g075100.2, gene:Solyc07g055950.3, gene:Solyc06g053760.3, gene:Solyc10g080950.2, gene:Solyc07g007190.3, gene:Solyc09g018010.3, gene:Solyc03g121600.4, gene:Solyc09g084480.3 \n",
      "Negative:  gene:Solyc06g076140.5, gene:Solyc04g080940.4, gene:Solyc06g074820.3, gene:Solyc02g080530.3, gene:Solyc11g020960.2, gene:Solyc07g007750.3, gene:Solyc07g007755.2, gene:Solyc08g066840.3, gene:Solyc10g084320.3, gene:Solyc06g059870.1 \n",
      "\t   gene:Solyc03g119210.1, gene:Solyc11g066950.2, gene:Solyc10g076730.1, gene:Solyc11g006990.2, gene:Solyc12g099200.2, gene:Solyc10g005060.4, gene:Solyc00g500164.1, gene:Solyc08g078500.3, gene:Solyc11g007200.3, gene:Solyc07g063850.3 \n",
      "\t   gene:Solyc05g051750.3, gene:Solyc05g051870.3, gene:Solyc01g111170.3, gene:Solyc01g010230.2, gene:Solyc09g007770.3, gene:Solyc03g034220.3, gene:Solyc02g081190.5, gene:Solyc07g047850.3, gene:Solyc02g084950.3, gene:Solyc12g042580.2 \n",
      "PC_ 4 \n",
      "Positive:  gene:Solyc04g080940.4, gene:Solyc08g074620.3, gene:Solyc09g092720.3, gene:Solyc10g075100.2, gene:Solyc02g080530.3, gene:Solyc06g074260.4, gene:Solyc11g006250.2, gene:Solyc02g077710.1, gene:Solyc07g055950.3, gene:Solyc12g011010.2 \n",
      "\t   gene:Solyc09g018010.3, gene:Solyc08g066840.3, gene:Solyc09g062970.1, gene:Solyc03g121180.4, gene:Solyc03g119210.1, gene:Solyc03g121600.4, gene:Solyc01g100760.2, gene:Solyc10g076730.1, gene:Solyc11g006990.2, gene:Solyc06g064820.3 \n",
      "\t   gene:Solyc09g084470.3, gene:Solyc09g097780.2, gene:Solyc09g089530.3, gene:Solyc11g010960.2, gene:Solyc12g042580.2, gene:Solyc08g078500.3, gene:Solyc09g097770.3, gene:Solyc01g094700.5, gene:Solyc02g087440.5, gene:Solyc09g092270.3 \n",
      "Negative:  gene:Solyc11g020960.2, gene:Solyc07g007750.3, gene:Solyc01g006400.4, gene:Solyc01g006390.2, gene:Solyc07g043420.3, gene:Solyc02g087880.3, gene:Solyc05g050130.5, gene:Solyc01g080750.3, gene:Solyc05g055680.5, gene:Solyc10g080360.1 \n",
      "\t   gene:Solyc08g082070.3, gene:Solyc11g065190.3, gene:Solyc08g074630.2, gene:Solyc02g088830.5, gene:Solyc02g083890.4, gene:Solyc11g022590.1, gene:Solyc07g065530.1, gene:Solyc02g070210.3, gene:Solyc05g014370.3, gene:Solyc07g065090.2 \n",
      "\t   gene:Solyc10g085020.3, gene:Solyc03g098780.2, gene:Solyc01g099410.3, gene:Solyc06g072830.5, gene:Solyc02g062170.3, gene:Solyc12g096780.2, gene:Solyc07g065110.2, gene:Solyc06g053760.3, gene:Solyc12g017460.1, gene:Solyc01g066910.3 \n",
      "PC_ 5 \n",
      "Positive:  gene:Solyc00g500164.1, gene:Solyc00g160750.1, gene:Solyc11g051176.1, gene:Solyc00g500259.1, gene:Solyc10g048060.2, gene:Solyc00g500196.2, gene:Solyc12g056290.2, gene:Solyc09g005400.3, gene:Solyc07g006380.3, gene:Solyc09g014550.3 \n",
      "\t   gene:Solyc06g059740.4, gene:Solyc09g014525.1, gene:Solyc02g077880.3, gene:Solyc11g010570.2, gene:Solyc01g111300.4, gene:Solyc12g006680.2, gene:Solyc02g083880.3, gene:Solyc02g080200.5, gene:Solyc01g100030.5.1, gene:Solyc07g052980.3 \n",
      "\t   gene:Solyc06g007610.3, gene:Solyc10g051377.1, gene:Solyc05g056620.2, gene:Solyc04g010330.3, gene:Solyc07g062840.3, gene:Solyc06g050870.3, gene:Solyc07g063640.1, gene:Solyc02g081120.4, gene:Solyc06g073430.4, gene:Solyc02g084790.3 \n",
      "Negative:  gene:Solyc06g074820.3, gene:Solyc07g007755.2, gene:Solyc01g006400.4, gene:Solyc03g098780.2, gene:Solyc03g034220.3, gene:Solyc07g047850.3, gene:Solyc06g076140.5, gene:Solyc12g094620.3, gene:Solyc11g022590.1, gene:Solyc02g080530.3 \n",
      "\t   gene:Solyc04g080940.4, gene:Solyc02g070940.1, gene:Solyc07g066150.1, gene:Solyc08g066840.3, gene:Solyc02g063150.3, gene:Solyc10g084320.3, gene:Solyc01g099410.3, gene:Solyc07g007750.3, gene:Solyc02g065400.3, gene:Solyc09g084480.3 \n",
      "\t   gene:Solyc08g006930.3, gene:Solyc11g012325.1, gene:Solyc03g005780.3, gene:Solyc01g074030.3, gene:Solyc02g071030.2, gene:Solyc07g043420.3, gene:Solyc06g062370.4, gene:Solyc12g011450.2, gene:Solyc05g055680.5, gene:Solyc06g074200.4 \n",
      "\n"
     ]
    },
    {
     "data": {
      "image/png": "[encoded data removed]",
      "text/plain": [
       "plot without title"
      ]
     },
     "metadata": {
      "image/png": {
       "height": 420,
       "width": 420
      }
     },
     "output_type": "display_data"
    }
   ],
   "source": [
    "seob <- RunPCA(seob)\n",
    "ElbowPlot(seob,ndims = 50)"
   ]
  },
  {
   "cell_type": "code",
   "execution_count": 111,
   "id": "822d041b-708f-4b28-83ee-bd89938e1fd1",
   "metadata": {},
   "outputs": [],
   "source": [
    "seob <- RunTSNE(seob,\n",
    "                #使用多少个PC，如果是SCT建议多一些PC\n",
    "                dims = 1:30)"
   ]
  },
  {
   "cell_type": "code",
   "execution_count": 112,
   "id": "cbff876d-fdf2-4ccb-aaff-aec7abfd06df",
   "metadata": {
    "tags": []
   },
   "outputs": [
    {
     "name": "stderr",
     "output_type": "stream",
     "text": [
      "21:36:51 UMAP embedding parameters a = 0.9922 b = 1.112\n",
      "\n",
      "21:36:51 Read 11749 rows and found 30 numeric columns\n",
      "\n",
      "21:36:51 Using Annoy for neighbor search, n_neighbors = 30\n",
      "\n",
      "21:36:51 Building Annoy index with metric = cosine, n_trees = 50\n",
      "\n",
      "0%   10   20   30   40   50   60   70   80   90   100%\n",
      "\n",
      "[----|----|----|----|----|----|----|----|----|----|\n",
      "\n",
      "*\n",
      "*\n",
      "*\n",
      "*\n",
      "*\n",
      "*\n",
      "*\n",
      "*\n",
      "*\n",
      "*\n",
      "*\n",
      "*\n",
      "*\n",
      "*\n",
      "*\n",
      "*\n",
      "*\n",
      "*\n",
      "*\n",
      "*\n",
      "*\n",
      "*\n",
      "*\n",
      "*\n",
      "*\n",
      "*\n",
      "*\n",
      "*\n",
      "*\n",
      "*\n",
      "*\n",
      "*\n",
      "*\n",
      "*\n",
      "*\n",
      "*\n",
      "*\n",
      "*\n",
      "*\n",
      "*\n",
      "*\n",
      "*\n",
      "*\n",
      "*\n",
      "*\n",
      "*\n",
      "*\n",
      "*\n",
      "*\n",
      "*\n",
      "|\n",
      "\n",
      "21:36:53 Writing NN index file to temp file /tmp/Rtmpl0TBxc/file16c4de358c5\n",
      "\n",
      "21:36:53 Searching Annoy index using 1 thread, search_k = 3000\n",
      "\n",
      "21:36:57 Annoy recall = 100%\n",
      "\n",
      "21:36:58 Commencing smooth kNN distance calibration using 1 thread\n",
      " with target n_neighbors = 30\n",
      "\n",
      "21:36:59 Initializing from normalized Laplacian + noise (using irlba)\n",
      "\n",
      "21:37:01 Commencing optimization for 200 epochs, with 516578 positive edges\n",
      "\n",
      "21:37:17 Optimization finished\n",
      "\n"
     ]
    }
   ],
   "source": [
    "seob <- RunUMAP(seob,\n",
    "                #使用多少个PC，如果是SCT建议多一些PC\n",
    "                dims = 1:30)"
   ]
  },
  {
   "cell_type": "code",
   "execution_count": 113,
   "id": "b18a7879-1a00-42f3-a0f5-6dde82032ac4",
   "metadata": {},
   "outputs": [
    {
     "name": "stderr",
     "output_type": "stream",
     "text": [
      "Computing nearest neighbor graph\n",
      "\n",
      "Computing SNN\n",
      "\n"
     ]
    }
   ],
   "source": [
    "#找邻居\n",
    "seob <- FindNeighbors(\n",
    "  seob,\n",
    "  k.param = 20, #找离自己最近的20个基因，最低设置5个\n",
    "  dims = 1:30\n",
    ")"
   ]
  },
  {
   "cell_type": "code",
   "execution_count": 114,
   "id": "f06fe9d9-5c4e-4cf3-84bb-b883f7d79a0f",
   "metadata": {},
   "outputs": [
    {
     "name": "stdout",
     "output_type": "stream",
     "text": [
      "Modularity Optimizer version 1.3.0 by Ludo Waltman and Nees Jan van Eck\n",
      "\n",
      "Number of nodes: 11749\n",
      "Number of edges: 433961\n",
      "\n",
      "Running Louvain algorithm...\n",
      "Maximum modularity in 10 random starts: 0.9094\n",
      "Number of communities: 11\n",
      "Elapsed time: 2 seconds\n"
     ]
    }
   ],
   "source": [
    "#聚类，请调节r的数值，使# Number of communities的结果是 11 \n",
    "\n",
    "r = 0.3\n",
    "seob <- FindClusters(\n",
    "  seob,\n",
    "  resolution = r, #值越大，cluster越多\n",
    "  random.seed = 1, #设置可避免同样的参数每次跑出来的结果不一样\n",
    "                     )\n",
    "\n",
    "# Number of communities: 11 这里暂时选定11个cluster"
   ]
  },
  {
   "cell_type": "code",
   "execution_count": 115,
   "id": "94ea8239-56b6-4e18-8f21-4a9377db7120",
   "metadata": {},
   "outputs": [
    {
     "data": {
      "text/html": [
       "<strong>png:</strong> 2"
      ],
      "text/latex": [
       "\\textbf{png:} 2"
      ],
      "text/markdown": [
       "**png:** 2"
      ],
      "text/plain": [
       "png \n",
       "  2 "
      ]
     },
     "metadata": {},
     "output_type": "display_data"
    }
   ],
   "source": [
    "pdf(str_c(path, \"/Cluster_\",sample,\"_r\", r, \".pdf\"), height = 8, width = 24)\n",
    "\n",
    "p1 <- DimPlot(\n",
    "  seob,\n",
    "  reduction = \"pca\",\n",
    "  group.by = \"seurat_clusters\",\n",
    "  label = T\n",
    ") \n",
    "p2 <- DimPlot(\n",
    "  seob,\n",
    "  reduction = \"tsne\",\n",
    "  group.by = \"seurat_clusters\",\n",
    "  label = T\n",
    ") \n",
    "p3 <- DimPlot(\n",
    "  seob,\n",
    "  reduction = \"umap\",\n",
    "  group.by = \"seurat_clusters\",\n",
    "  label = T\n",
    ") \n",
    "\n",
    "p1+p2+p3\n",
    "\n",
    "dev.off()"
   ]
  },
  {
   "cell_type": "code",
   "execution_count": 116,
   "id": "cc7053f4-4ab9-4759-86d3-136f6bcb952d",
   "metadata": {
    "tags": []
   },
   "outputs": [],
   "source": [
    "# 试试harmony效果，参考http://www.biocloudservice.com/wordpress/?p=60391\n",
    "# 使用RunHarmony函数去批次\n",
    "#按照样本组别去批次，这里使用了管道函数%>%，即把函数左边的值发给右边做后续处理。\n",
    "# Harmony需要输入低维空间的坐标值（embedding），一般使用PCA的降维结果。Harmony导入PCA的降维数据后，会采用soft k-means clustering算法将细胞聚类。\n",
    "# 因为这里只有一次测序的结果，之前检测过没有啥批次效应，所以暂时不做整合\n",
    "# library(harmony)\n",
    "# seob2 = seob1 %>% RunHarmony(\"sample\", plot_convergence = TRUE)"
   ]
  },
  {
   "cell_type": "code",
   "execution_count": 117,
   "id": "69201c9e-bf03-45f8-8f20-2a92124f38f6",
   "metadata": {},
   "outputs": [],
   "source": [
    "save(seob,file = str_c(path, \"/Cluster_r\", r, \"_\", sample,\".rdata\"))"
   ]
  },
  {
   "cell_type": "code",
   "execution_count": 118,
   "id": "13c4d1db-56b6-44a6-895c-5f5cb7eb5fef",
   "metadata": {},
   "outputs": [],
   "source": [
    "saveRDS(seob,file = str_c(path, \"/Cluster_r\", r, \"_\", sample,\".rds\"))"
   ]
  }
 ],
 "metadata": {
  "jupytext": {
   "cell_metadata_filter": "-all",
   "main_language": "R",
   "notebook_metadata_filter": "-all"
  },
  "kernelspec": {
   "display_name": "R",
   "language": "R",
   "name": "ir"
  },
  "language_info": {
   "codemirror_mode": "r",
   "file_extension": ".r",
   "mimetype": "text/x-r-source",
   "name": "R",
   "pygments_lexer": "r",
   "version": "4.2.2"
  }
 },
 "nbformat": 4,
 "nbformat_minor": 5
}
